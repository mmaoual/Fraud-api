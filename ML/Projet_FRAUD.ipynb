{
  "cells": [
    {
      "cell_type": "markdown",
      "metadata": {
        "id": "gydl5IE4f8Id"
      },
      "source": [
        "# **PROJET : FRAUD**"
      ]
    },
    {
      "cell_type": "markdown",
      "metadata": {
        "id": "OKUZsgYtFBBc"
      },
      "source": [
        "**Sommaire :**   \n",
        "- Préparation du jeu de données\n",
        "- Exploration et Statistiques descriptives\n",
        "- Data processing\n",
        "- Visualisation (Matplotlib)\n",
        "- Machine learning\n",
        "- Conclusion\n",
        "\n",
        "\n",
        "\n",
        "---\n",
        "\n"
      ]
    },
    {
      "cell_type": "markdown",
      "metadata": {
        "id": "YPIp42ihmcLv"
      },
      "source": [
        "**Objectif :** *Prédire si une transaction est frauduleuse*"
      ]
    },
    {
      "cell_type": "markdown",
      "metadata": {
        "id": "TK0mkPeknFwh"
      },
      "source": [
        "## **I-** Préparation du jeu de données :\n",
        "\n",
        "Audit et exploration des données\n",
        "\n"
      ]
    },
    {
      "cell_type": "markdown",
      "metadata": {
        "id": "JmB5BZINnOsG"
      },
      "source": [
        "### Chargement du jeu de données et desciption\n",
        "\n",
        "> Description du dataframe et des variables\n",
        "\n"
      ]
    },
    {
      "cell_type": "code",
      "execution_count": 1,
      "metadata": {
        "colab": {
          "base_uri": "https://localhost:8080/",
          "height": 363
        },
        "id": "fr7qphpfnmGy",
        "outputId": "b090d253-f48b-4c02-9fb3-423cecf08916"
      },
      "outputs": [
        {
          "data": {
            "text/html": [
              "<div>\n",
              "<style scoped>\n",
              "    .dataframe tbody tr th:only-of-type {\n",
              "        vertical-align: middle;\n",
              "    }\n",
              "\n",
              "    .dataframe tbody tr th {\n",
              "        vertical-align: top;\n",
              "    }\n",
              "\n",
              "    .dataframe thead th {\n",
              "        text-align: right;\n",
              "    }\n",
              "</style>\n",
              "<table border=\"1\" class=\"dataframe\">\n",
              "  <thead>\n",
              "    <tr style=\"text-align: right;\">\n",
              "      <th></th>\n",
              "      <th>user_id</th>\n",
              "      <th>signup_time</th>\n",
              "      <th>purchase_time</th>\n",
              "      <th>purchase_value</th>\n",
              "      <th>device_id</th>\n",
              "      <th>source</th>\n",
              "      <th>browser</th>\n",
              "      <th>sex</th>\n",
              "      <th>age</th>\n",
              "      <th>ip_address</th>\n",
              "      <th>is_fraud</th>\n",
              "    </tr>\n",
              "  </thead>\n",
              "  <tbody>\n",
              "    <tr>\n",
              "      <th>0</th>\n",
              "      <td>22058</td>\n",
              "      <td>2015-02-24 22:55:49</td>\n",
              "      <td>2015-04-18 2:47:11</td>\n",
              "      <td>34</td>\n",
              "      <td>QVPSPJUOCKZAR</td>\n",
              "      <td>SEO</td>\n",
              "      <td>Chrome</td>\n",
              "      <td>M</td>\n",
              "      <td>39</td>\n",
              "      <td>7.327584e+08</td>\n",
              "      <td>0</td>\n",
              "    </tr>\n",
              "    <tr>\n",
              "      <th>1</th>\n",
              "      <td>333320</td>\n",
              "      <td>2015-06-07 20:39:50</td>\n",
              "      <td>2015-06-08 1:38:54</td>\n",
              "      <td>16</td>\n",
              "      <td>EOGFQPIZPYXFZ</td>\n",
              "      <td>Ads</td>\n",
              "      <td>Chrome</td>\n",
              "      <td>F</td>\n",
              "      <td>53</td>\n",
              "      <td>3.503114e+08</td>\n",
              "      <td>0</td>\n",
              "    </tr>\n",
              "    <tr>\n",
              "      <th>2</th>\n",
              "      <td>1359</td>\n",
              "      <td>2015-01-01 18:52:44</td>\n",
              "      <td>2015-01-01 18:52:45</td>\n",
              "      <td>15</td>\n",
              "      <td>YSSKYOSJHPPLJ</td>\n",
              "      <td>SEO</td>\n",
              "      <td>Opera</td>\n",
              "      <td>M</td>\n",
              "      <td>53</td>\n",
              "      <td>2.621474e+09</td>\n",
              "      <td>1</td>\n",
              "    </tr>\n",
              "    <tr>\n",
              "      <th>3</th>\n",
              "      <td>150084</td>\n",
              "      <td>2015-04-28 21:13:25</td>\n",
              "      <td>2015-05-04 13:54:50</td>\n",
              "      <td>44</td>\n",
              "      <td>ATGTXKYKUDUQN</td>\n",
              "      <td>SEO</td>\n",
              "      <td>Safari</td>\n",
              "      <td>M</td>\n",
              "      <td>41</td>\n",
              "      <td>3.840542e+09</td>\n",
              "      <td>0</td>\n",
              "    </tr>\n",
              "    <tr>\n",
              "      <th>4</th>\n",
              "      <td>221365</td>\n",
              "      <td>2015-07-21 7:09:52</td>\n",
              "      <td>2015-09-09 18:40:53</td>\n",
              "      <td>39</td>\n",
              "      <td>NAUITBZFJKHWW</td>\n",
              "      <td>Ads</td>\n",
              "      <td>Safari</td>\n",
              "      <td>M</td>\n",
              "      <td>45</td>\n",
              "      <td>4.155831e+08</td>\n",
              "      <td>0</td>\n",
              "    </tr>\n",
              "    <tr>\n",
              "      <th>5</th>\n",
              "      <td>159135</td>\n",
              "      <td>2015-05-21 6:03:03</td>\n",
              "      <td>2015-07-09 8:05:14</td>\n",
              "      <td>42</td>\n",
              "      <td>ALEYXFXINSXLZ</td>\n",
              "      <td>Ads</td>\n",
              "      <td>Chrome</td>\n",
              "      <td>M</td>\n",
              "      <td>18</td>\n",
              "      <td>2.809315e+09</td>\n",
              "      <td>0</td>\n",
              "    </tr>\n",
              "    <tr>\n",
              "      <th>6</th>\n",
              "      <td>50116</td>\n",
              "      <td>2015-08-01 22:40:52</td>\n",
              "      <td>2015-08-27 3:37:57</td>\n",
              "      <td>11</td>\n",
              "      <td>IWKVZHJOCLPUR</td>\n",
              "      <td>Ads</td>\n",
              "      <td>Chrome</td>\n",
              "      <td>F</td>\n",
              "      <td>19</td>\n",
              "      <td>3.987484e+09</td>\n",
              "      <td>0</td>\n",
              "    </tr>\n",
              "    <tr>\n",
              "      <th>7</th>\n",
              "      <td>360585</td>\n",
              "      <td>2015-04-06 7:35:45</td>\n",
              "      <td>2015-05-25 17:21:14</td>\n",
              "      <td>27</td>\n",
              "      <td>HPUCUYLMJBYFW</td>\n",
              "      <td>Ads</td>\n",
              "      <td>Opera</td>\n",
              "      <td>M</td>\n",
              "      <td>34</td>\n",
              "      <td>1.692459e+09</td>\n",
              "      <td>0</td>\n",
              "    </tr>\n",
              "    <tr>\n",
              "      <th>8</th>\n",
              "      <td>159045</td>\n",
              "      <td>2015-04-21 23:38:34</td>\n",
              "      <td>2015-06-02 14:01:54</td>\n",
              "      <td>30</td>\n",
              "      <td>ILXYDOZIHOOHT</td>\n",
              "      <td>SEO</td>\n",
              "      <td>IE</td>\n",
              "      <td>F</td>\n",
              "      <td>43</td>\n",
              "      <td>3.719094e+09</td>\n",
              "      <td>0</td>\n",
              "    </tr>\n",
              "    <tr>\n",
              "      <th>9</th>\n",
              "      <td>182338</td>\n",
              "      <td>2015-01-25 17:49:49</td>\n",
              "      <td>2015-03-23 23:05:42</td>\n",
              "      <td>62</td>\n",
              "      <td>NRFFPPHZYFUVC</td>\n",
              "      <td>Ads</td>\n",
              "      <td>IE</td>\n",
              "      <td>M</td>\n",
              "      <td>31</td>\n",
              "      <td>3.416747e+08</td>\n",
              "      <td>0</td>\n",
              "    </tr>\n",
              "  </tbody>\n",
              "</table>\n",
              "</div>"
            ],
            "text/plain": [
              "   user_id          signup_time        purchase_time  purchase_value  \\\n",
              "0    22058  2015-02-24 22:55:49   2015-04-18 2:47:11              34   \n",
              "1   333320  2015-06-07 20:39:50   2015-06-08 1:38:54              16   \n",
              "2     1359  2015-01-01 18:52:44  2015-01-01 18:52:45              15   \n",
              "3   150084  2015-04-28 21:13:25  2015-05-04 13:54:50              44   \n",
              "4   221365   2015-07-21 7:09:52  2015-09-09 18:40:53              39   \n",
              "5   159135   2015-05-21 6:03:03   2015-07-09 8:05:14              42   \n",
              "6    50116  2015-08-01 22:40:52   2015-08-27 3:37:57              11   \n",
              "7   360585   2015-04-06 7:35:45  2015-05-25 17:21:14              27   \n",
              "8   159045  2015-04-21 23:38:34  2015-06-02 14:01:54              30   \n",
              "9   182338  2015-01-25 17:49:49  2015-03-23 23:05:42              62   \n",
              "\n",
              "       device_id source browser sex  age    ip_address  is_fraud  \n",
              "0  QVPSPJUOCKZAR    SEO  Chrome   M   39  7.327584e+08         0  \n",
              "1  EOGFQPIZPYXFZ    Ads  Chrome   F   53  3.503114e+08         0  \n",
              "2  YSSKYOSJHPPLJ    SEO   Opera   M   53  2.621474e+09         1  \n",
              "3  ATGTXKYKUDUQN    SEO  Safari   M   41  3.840542e+09         0  \n",
              "4  NAUITBZFJKHWW    Ads  Safari   M   45  4.155831e+08         0  \n",
              "5  ALEYXFXINSXLZ    Ads  Chrome   M   18  2.809315e+09         0  \n",
              "6  IWKVZHJOCLPUR    Ads  Chrome   F   19  3.987484e+09         0  \n",
              "7  HPUCUYLMJBYFW    Ads   Opera   M   34  1.692459e+09         0  \n",
              "8  ILXYDOZIHOOHT    SEO      IE   F   43  3.719094e+09         0  \n",
              "9  NRFFPPHZYFUVC    Ads      IE   M   31  3.416747e+08         0  "
            ]
          },
          "execution_count": 1,
          "metadata": {},
          "output_type": "execute_result"
        }
      ],
      "source": [
        "import pandas as pd\n",
        "import numpy as np\n",
        "import matplotlib.pyplot as plt\n",
        "import seaborn as sns\n",
        "from sklearn.cluster import KMeans\n",
        "from sklearn.decomposition import PCA\n",
        "from sklearn.preprocessing import StandardScaler, MinMaxScaler\n",
        "from sklearn.model_selection import train_test_split, cross_val_score , cross_validate , StratifiedKFold,KFold\n",
        "from sklearn.linear_model import LogisticRegression,LinearRegression\n",
        "from sklearn.metrics import confusion_matrix,accuracy_score, balanced_accuracy_score,mean_squared_error, mean_absolute_error, r2_score\n",
        "from sklearn.metrics import recall_score\n",
        "from sklearn.metrics import f1_score\n",
        "from sklearn.tree import DecisionTreeClassifier\n",
        "from sklearn.ensemble import RandomForestClassifier\n",
        "from sklearn.preprocessing import MinMaxScaler\n",
        "\n",
        "# Importer les données du fichier Fraud.csv dans un DataFrame\n",
        "dfTransaction = pd.read_csv('https://assets-datascientest.s3-eu-west-1.amazonaws.com/de/total/fraud.csv')\n",
        "\n",
        "# Afficher un aperçu des transactions (10 premières lignes)\n",
        "dfTransaction.head(10)\n"
      ]
    },
    {
      "cell_type": "code",
      "execution_count": 2,
      "metadata": {
        "colab": {
          "base_uri": "https://localhost:8080/"
        },
        "id": "lFiQYkqxo52C",
        "outputId": "d5cdd897-0508-4a98-cb53-b0ba197f4b7b"
      },
      "outputs": [
        {
          "name": "stdout",
          "output_type": "stream",
          "text": [
            "(151112, 11)\n"
          ]
        }
      ],
      "source": [
        "# Affichage des dimensions du DataFrame dfTransaction\n",
        "print(dfTransaction.shape)"
      ]
    },
    {
      "cell_type": "code",
      "execution_count": 3,
      "metadata": {
        "colab": {
          "base_uri": "https://localhost:8080/",
          "height": 300
        },
        "id": "KZmoIA_fko07",
        "outputId": "b8cd1334-52e1-435e-b161-c34d7859e9b6"
      },
      "outputs": [
        {
          "data": {
            "text/html": [
              "<div>\n",
              "<style scoped>\n",
              "    .dataframe tbody tr th:only-of-type {\n",
              "        vertical-align: middle;\n",
              "    }\n",
              "\n",
              "    .dataframe tbody tr th {\n",
              "        vertical-align: top;\n",
              "    }\n",
              "\n",
              "    .dataframe thead th {\n",
              "        text-align: right;\n",
              "    }\n",
              "</style>\n",
              "<table border=\"1\" class=\"dataframe\">\n",
              "  <thead>\n",
              "    <tr style=\"text-align: right;\">\n",
              "      <th></th>\n",
              "      <th>user_id</th>\n",
              "      <th>purchase_value</th>\n",
              "      <th>age</th>\n",
              "      <th>ip_address</th>\n",
              "      <th>is_fraud</th>\n",
              "    </tr>\n",
              "  </thead>\n",
              "  <tbody>\n",
              "    <tr>\n",
              "      <th>count</th>\n",
              "      <td>151112.000000</td>\n",
              "      <td>151112.000000</td>\n",
              "      <td>151112.000000</td>\n",
              "      <td>1.511120e+05</td>\n",
              "      <td>151112.000000</td>\n",
              "    </tr>\n",
              "    <tr>\n",
              "      <th>mean</th>\n",
              "      <td>200171.040970</td>\n",
              "      <td>36.935372</td>\n",
              "      <td>33.140704</td>\n",
              "      <td>2.152145e+09</td>\n",
              "      <td>0.093646</td>\n",
              "    </tr>\n",
              "    <tr>\n",
              "      <th>std</th>\n",
              "      <td>115369.285024</td>\n",
              "      <td>18.322762</td>\n",
              "      <td>8.617733</td>\n",
              "      <td>1.248497e+09</td>\n",
              "      <td>0.291336</td>\n",
              "    </tr>\n",
              "    <tr>\n",
              "      <th>min</th>\n",
              "      <td>2.000000</td>\n",
              "      <td>9.000000</td>\n",
              "      <td>18.000000</td>\n",
              "      <td>5.209350e+04</td>\n",
              "      <td>0.000000</td>\n",
              "    </tr>\n",
              "    <tr>\n",
              "      <th>25%</th>\n",
              "      <td>100642.500000</td>\n",
              "      <td>22.000000</td>\n",
              "      <td>27.000000</td>\n",
              "      <td>1.085934e+09</td>\n",
              "      <td>0.000000</td>\n",
              "    </tr>\n",
              "    <tr>\n",
              "      <th>50%</th>\n",
              "      <td>199958.000000</td>\n",
              "      <td>35.000000</td>\n",
              "      <td>33.000000</td>\n",
              "      <td>2.154770e+09</td>\n",
              "      <td>0.000000</td>\n",
              "    </tr>\n",
              "    <tr>\n",
              "      <th>75%</th>\n",
              "      <td>300054.000000</td>\n",
              "      <td>49.000000</td>\n",
              "      <td>39.000000</td>\n",
              "      <td>3.243258e+09</td>\n",
              "      <td>0.000000</td>\n",
              "    </tr>\n",
              "    <tr>\n",
              "      <th>max</th>\n",
              "      <td>400000.000000</td>\n",
              "      <td>154.000000</td>\n",
              "      <td>76.000000</td>\n",
              "      <td>4.294850e+09</td>\n",
              "      <td>1.000000</td>\n",
              "    </tr>\n",
              "  </tbody>\n",
              "</table>\n",
              "</div>"
            ],
            "text/plain": [
              "             user_id  purchase_value            age    ip_address  \\\n",
              "count  151112.000000   151112.000000  151112.000000  1.511120e+05   \n",
              "mean   200171.040970       36.935372      33.140704  2.152145e+09   \n",
              "std    115369.285024       18.322762       8.617733  1.248497e+09   \n",
              "min         2.000000        9.000000      18.000000  5.209350e+04   \n",
              "25%    100642.500000       22.000000      27.000000  1.085934e+09   \n",
              "50%    199958.000000       35.000000      33.000000  2.154770e+09   \n",
              "75%    300054.000000       49.000000      39.000000  3.243258e+09   \n",
              "max    400000.000000      154.000000      76.000000  4.294850e+09   \n",
              "\n",
              "            is_fraud  \n",
              "count  151112.000000  \n",
              "mean        0.093646  \n",
              "std         0.291336  \n",
              "min         0.000000  \n",
              "25%         0.000000  \n",
              "50%         0.000000  \n",
              "75%         0.000000  \n",
              "max         1.000000  "
            ]
          },
          "execution_count": 3,
          "metadata": {},
          "output_type": "execute_result"
        }
      ],
      "source": [
        "# Description du dataframe\n",
        "dfTransaction.describe()"
      ]
    },
    {
      "cell_type": "code",
      "execution_count": 4,
      "metadata": {
        "colab": {
          "base_uri": "https://localhost:8080/"
        },
        "id": "RVPdE6_rMro1",
        "outputId": "59c0befc-8c7b-4e50-d5ca-cf44f4b0a457"
      },
      "outputs": [
        {
          "name": "stdout",
          "output_type": "stream",
          "text": [
            "<class 'pandas.core.frame.DataFrame'>\n",
            "RangeIndex: 151112 entries, 0 to 151111\n",
            "Data columns (total 11 columns):\n",
            " #   Column          Non-Null Count   Dtype  \n",
            "---  ------          --------------   -----  \n",
            " 0   user_id         151112 non-null  int64  \n",
            " 1   signup_time     151112 non-null  object \n",
            " 2   purchase_time   151112 non-null  object \n",
            " 3   purchase_value  151112 non-null  int64  \n",
            " 4   device_id       151112 non-null  object \n",
            " 5   source          151112 non-null  object \n",
            " 6   browser         151112 non-null  object \n",
            " 7   sex             151112 non-null  object \n",
            " 8   age             151112 non-null  int64  \n",
            " 9   ip_address      151112 non-null  float64\n",
            " 10  is_fraud        151112 non-null  int64  \n",
            "dtypes: float64(1), int64(4), object(6)\n",
            "memory usage: 12.7+ MB\n"
          ]
        }
      ],
      "source": [
        "dfTransaction.info()"
      ]
    },
    {
      "cell_type": "markdown",
      "metadata": {
        "id": "9ndkPRHkpQ6Y"
      },
      "source": [
        "### Data cleaning : Nettoyage des Données et Gestion des NAs :\n",
        "\n",
        "> Repérer et supprimer les doublons.\n",
        ">\n",
        "> Modifier les éléments et leur type (construction de telle variable, replace, rename et astype).\n",
        ">\n",
        "> Détecter les NA (nombre de valeurs manquantes, isna suivie des méthodes any et sum).\n",
        ">\n",
        "> Les remplacer (stratégie de remplacement : fillna et des méthodes statistiques).\n",
        ">\n",
        "> Les supprimer grâce à la méthode dropna.\n",
        ">\n",
        "> Recréer des variables temporelles\n"
      ]
    },
    {
      "cell_type": "code",
      "execution_count": 5,
      "metadata": {
        "colab": {
          "base_uri": "https://localhost:8080/"
        },
        "id": "NoWfNU0UqBDk",
        "outputId": "0fd2d7c0-fd58-468a-e8ae-0a1d870e02ad"
      },
      "outputs": [
        {
          "name": "stdout",
          "output_type": "stream",
          "text": [
            "0\n"
          ]
        }
      ],
      "source": [
        "# Affichage de la somme des doublons >>> Pour calculer la somme des booléens, on considère que True vaut 1 et False vaut 0.\n",
        "print(dfTransaction.duplicated().sum())\n"
      ]
    },
    {
      "cell_type": "code",
      "execution_count": 6,
      "metadata": {
        "colab": {
          "base_uri": "https://localhost:8080/"
        },
        "id": "GdPOVpH9qGQS",
        "outputId": "ab606f32-71ec-4a0a-a581-bcfcb2c22c57"
      },
      "outputs": [
        {
          "data": {
            "text/plain": [
              "0"
            ]
          },
          "execution_count": 6,
          "metadata": {},
          "output_type": "execute_result"
        }
      ],
      "source": [
        "# On détecte les COLONNES contenant au moins une valeur manquante\n",
        "dfTransaction.isna().any(axis = 0).sum()\n",
        "\n",
        "# Aucune valeures manquantes dans les COLONNES "
      ]
    },
    {
      "cell_type": "code",
      "execution_count": 7,
      "metadata": {
        "colab": {
          "base_uri": "https://localhost:8080/"
        },
        "id": "cm5LYWfiqIYn",
        "outputId": "edf70071-c39f-4f25-955b-aefbf8253e01"
      },
      "outputs": [
        {
          "data": {
            "text/plain": [
              "0"
            ]
          },
          "execution_count": 7,
          "metadata": {},
          "output_type": "execute_result"
        }
      ],
      "source": [
        "# On détecte les LIGNES contenant au moins une valeur manquante\n",
        "dfTransaction.isna().any(axis = 1).sum()\n",
        "\n",
        "# Aucune valeures manquantes dans les LIGNES "
      ]
    },
    {
      "cell_type": "markdown",
      "metadata": {
        "id": "KnG06zIQM2e3"
      },
      "source": [
        "**-> On constate qu'il n'y a aucune valeur manquante dans le dataFrame**\n"
      ]
    },
    {
      "cell_type": "code",
      "execution_count": 8,
      "metadata": {
        "colab": {
          "base_uri": "https://localhost:8080/"
        },
        "id": "G-_yoppdxeDK",
        "outputId": "909bc636-f294-4c9c-83bf-244ffa9eb902"
      },
      "outputs": [
        {
          "data": {
            "text/plain": [
              "user_id             int64\n",
              "signup_time        object\n",
              "purchase_time      object\n",
              "purchase_value      int64\n",
              "device_id          object\n",
              "source             object\n",
              "browser            object\n",
              "sex                object\n",
              "age                 int64\n",
              "ip_address        float64\n",
              "is_fraud            int64\n",
              "dtype: object"
            ]
          },
          "execution_count": 8,
          "metadata": {},
          "output_type": "execute_result"
        }
      ],
      "source": [
        "dfTransaction.dtypes\n",
        "\n",
        "#On affiche les differents types"
      ]
    },
    {
      "cell_type": "code",
      "execution_count": 9,
      "metadata": {
        "colab": {
          "base_uri": "https://localhost:8080/",
          "height": 363
        },
        "id": "Ms9SjU2OVnIS",
        "outputId": "8b335b3f-74b0-4507-e73c-0b1ecbd52541"
      },
      "outputs": [
        {
          "data": {
            "text/html": [
              "<div>\n",
              "<style scoped>\n",
              "    .dataframe tbody tr th:only-of-type {\n",
              "        vertical-align: middle;\n",
              "    }\n",
              "\n",
              "    .dataframe tbody tr th {\n",
              "        vertical-align: top;\n",
              "    }\n",
              "\n",
              "    .dataframe thead th {\n",
              "        text-align: right;\n",
              "    }\n",
              "</style>\n",
              "<table border=\"1\" class=\"dataframe\">\n",
              "  <thead>\n",
              "    <tr style=\"text-align: right;\">\n",
              "      <th></th>\n",
              "      <th>user_id</th>\n",
              "      <th>signup_time</th>\n",
              "      <th>purchase_time</th>\n",
              "      <th>purchase_value</th>\n",
              "      <th>device_id</th>\n",
              "      <th>source</th>\n",
              "      <th>browser</th>\n",
              "      <th>sex</th>\n",
              "      <th>age</th>\n",
              "      <th>ip_address</th>\n",
              "      <th>is_fraud</th>\n",
              "      <th>time_diff</th>\n",
              "    </tr>\n",
              "  </thead>\n",
              "  <tbody>\n",
              "    <tr>\n",
              "      <th>0</th>\n",
              "      <td>22058</td>\n",
              "      <td>2015-02-24 22:55:49</td>\n",
              "      <td>2015-04-18 02:47:11</td>\n",
              "      <td>34</td>\n",
              "      <td>QVPSPJUOCKZAR</td>\n",
              "      <td>SEO</td>\n",
              "      <td>Chrome</td>\n",
              "      <td>M</td>\n",
              "      <td>39</td>\n",
              "      <td>7.327584e+08</td>\n",
              "      <td>0</td>\n",
              "      <td>75111.0</td>\n",
              "    </tr>\n",
              "    <tr>\n",
              "      <th>1</th>\n",
              "      <td>333320</td>\n",
              "      <td>2015-06-07 20:39:50</td>\n",
              "      <td>2015-06-08 01:38:54</td>\n",
              "      <td>16</td>\n",
              "      <td>EOGFQPIZPYXFZ</td>\n",
              "      <td>Ads</td>\n",
              "      <td>Chrome</td>\n",
              "      <td>F</td>\n",
              "      <td>53</td>\n",
              "      <td>3.503114e+08</td>\n",
              "      <td>0</td>\n",
              "      <td>299.0</td>\n",
              "    </tr>\n",
              "    <tr>\n",
              "      <th>2</th>\n",
              "      <td>1359</td>\n",
              "      <td>2015-01-01 18:52:44</td>\n",
              "      <td>2015-01-01 18:52:45</td>\n",
              "      <td>15</td>\n",
              "      <td>YSSKYOSJHPPLJ</td>\n",
              "      <td>SEO</td>\n",
              "      <td>Opera</td>\n",
              "      <td>M</td>\n",
              "      <td>53</td>\n",
              "      <td>2.621474e+09</td>\n",
              "      <td>1</td>\n",
              "      <td>0.0</td>\n",
              "    </tr>\n",
              "    <tr>\n",
              "      <th>3</th>\n",
              "      <td>150084</td>\n",
              "      <td>2015-04-28 21:13:25</td>\n",
              "      <td>2015-05-04 13:54:50</td>\n",
              "      <td>44</td>\n",
              "      <td>ATGTXKYKUDUQN</td>\n",
              "      <td>SEO</td>\n",
              "      <td>Safari</td>\n",
              "      <td>M</td>\n",
              "      <td>41</td>\n",
              "      <td>3.840542e+09</td>\n",
              "      <td>0</td>\n",
              "      <td>8201.0</td>\n",
              "    </tr>\n",
              "    <tr>\n",
              "      <th>4</th>\n",
              "      <td>221365</td>\n",
              "      <td>2015-07-21 07:09:52</td>\n",
              "      <td>2015-09-09 18:40:53</td>\n",
              "      <td>39</td>\n",
              "      <td>NAUITBZFJKHWW</td>\n",
              "      <td>Ads</td>\n",
              "      <td>Safari</td>\n",
              "      <td>M</td>\n",
              "      <td>45</td>\n",
              "      <td>4.155831e+08</td>\n",
              "      <td>0</td>\n",
              "      <td>72691.0</td>\n",
              "    </tr>\n",
              "    <tr>\n",
              "      <th>5</th>\n",
              "      <td>159135</td>\n",
              "      <td>2015-05-21 06:03:03</td>\n",
              "      <td>2015-07-09 08:05:14</td>\n",
              "      <td>42</td>\n",
              "      <td>ALEYXFXINSXLZ</td>\n",
              "      <td>Ads</td>\n",
              "      <td>Chrome</td>\n",
              "      <td>M</td>\n",
              "      <td>18</td>\n",
              "      <td>2.809315e+09</td>\n",
              "      <td>0</td>\n",
              "      <td>70682.0</td>\n",
              "    </tr>\n",
              "    <tr>\n",
              "      <th>6</th>\n",
              "      <td>50116</td>\n",
              "      <td>2015-08-01 22:40:52</td>\n",
              "      <td>2015-08-27 03:37:57</td>\n",
              "      <td>11</td>\n",
              "      <td>IWKVZHJOCLPUR</td>\n",
              "      <td>Ads</td>\n",
              "      <td>Chrome</td>\n",
              "      <td>F</td>\n",
              "      <td>19</td>\n",
              "      <td>3.987484e+09</td>\n",
              "      <td>0</td>\n",
              "      <td>36297.0</td>\n",
              "    </tr>\n",
              "    <tr>\n",
              "      <th>7</th>\n",
              "      <td>360585</td>\n",
              "      <td>2015-04-06 07:35:45</td>\n",
              "      <td>2015-05-25 17:21:14</td>\n",
              "      <td>27</td>\n",
              "      <td>HPUCUYLMJBYFW</td>\n",
              "      <td>Ads</td>\n",
              "      <td>Opera</td>\n",
              "      <td>M</td>\n",
              "      <td>34</td>\n",
              "      <td>1.692459e+09</td>\n",
              "      <td>0</td>\n",
              "      <td>71145.0</td>\n",
              "    </tr>\n",
              "    <tr>\n",
              "      <th>8</th>\n",
              "      <td>159045</td>\n",
              "      <td>2015-04-21 23:38:34</td>\n",
              "      <td>2015-06-02 14:01:54</td>\n",
              "      <td>30</td>\n",
              "      <td>ILXYDOZIHOOHT</td>\n",
              "      <td>SEO</td>\n",
              "      <td>IE</td>\n",
              "      <td>F</td>\n",
              "      <td>43</td>\n",
              "      <td>3.719094e+09</td>\n",
              "      <td>0</td>\n",
              "      <td>59903.0</td>\n",
              "    </tr>\n",
              "    <tr>\n",
              "      <th>9</th>\n",
              "      <td>182338</td>\n",
              "      <td>2015-01-25 17:49:49</td>\n",
              "      <td>2015-03-23 23:05:42</td>\n",
              "      <td>62</td>\n",
              "      <td>NRFFPPHZYFUVC</td>\n",
              "      <td>Ads</td>\n",
              "      <td>IE</td>\n",
              "      <td>M</td>\n",
              "      <td>31</td>\n",
              "      <td>3.416747e+08</td>\n",
              "      <td>0</td>\n",
              "      <td>82395.0</td>\n",
              "    </tr>\n",
              "  </tbody>\n",
              "</table>\n",
              "</div>"
            ],
            "text/plain": [
              "   user_id         signup_time       purchase_time  purchase_value  \\\n",
              "0    22058 2015-02-24 22:55:49 2015-04-18 02:47:11              34   \n",
              "1   333320 2015-06-07 20:39:50 2015-06-08 01:38:54              16   \n",
              "2     1359 2015-01-01 18:52:44 2015-01-01 18:52:45              15   \n",
              "3   150084 2015-04-28 21:13:25 2015-05-04 13:54:50              44   \n",
              "4   221365 2015-07-21 07:09:52 2015-09-09 18:40:53              39   \n",
              "5   159135 2015-05-21 06:03:03 2015-07-09 08:05:14              42   \n",
              "6    50116 2015-08-01 22:40:52 2015-08-27 03:37:57              11   \n",
              "7   360585 2015-04-06 07:35:45 2015-05-25 17:21:14              27   \n",
              "8   159045 2015-04-21 23:38:34 2015-06-02 14:01:54              30   \n",
              "9   182338 2015-01-25 17:49:49 2015-03-23 23:05:42              62   \n",
              "\n",
              "       device_id source browser sex  age    ip_address  is_fraud  time_diff  \n",
              "0  QVPSPJUOCKZAR    SEO  Chrome   M   39  7.327584e+08         0    75111.0  \n",
              "1  EOGFQPIZPYXFZ    Ads  Chrome   F   53  3.503114e+08         0      299.0  \n",
              "2  YSSKYOSJHPPLJ    SEO   Opera   M   53  2.621474e+09         1        0.0  \n",
              "3  ATGTXKYKUDUQN    SEO  Safari   M   41  3.840542e+09         0     8201.0  \n",
              "4  NAUITBZFJKHWW    Ads  Safari   M   45  4.155831e+08         0    72691.0  \n",
              "5  ALEYXFXINSXLZ    Ads  Chrome   M   18  2.809315e+09         0    70682.0  \n",
              "6  IWKVZHJOCLPUR    Ads  Chrome   F   19  3.987484e+09         0    36297.0  \n",
              "7  HPUCUYLMJBYFW    Ads   Opera   M   34  1.692459e+09         0    71145.0  \n",
              "8  ILXYDOZIHOOHT    SEO      IE   F   43  3.719094e+09         0    59903.0  \n",
              "9  NRFFPPHZYFUVC    Ads      IE   M   31  3.416747e+08         0    82395.0  "
            ]
          },
          "execution_count": 9,
          "metadata": {},
          "output_type": "execute_result"
        }
      ],
      "source": [
        "# Création de la variable time_diff = différence entre l'heure de la connextion et l'heure d'achat\n",
        "dfTransaction['signup_time'] = pd.to_datetime(dfTransaction['signup_time'])\n",
        "dfTransaction['purchase_time'] = pd.to_datetime(dfTransaction['purchase_time'])\n",
        "dfTransaction['time_diff']=(dfTransaction['purchase_time']-dfTransaction['signup_time']).astype('timedelta64[m]')\n",
        "dfTransaction.head(10)"
      ]
    },
    {
      "cell_type": "markdown",
      "metadata": {
        "id": "L78igpNfctSr"
      },
      "source": [
        "Le champ time_diff pourra représenter les deux champs signup_time et purchase_time dans notre modèle."
      ]
    },
    {
      "cell_type": "markdown",
      "metadata": {
        "id": "aFI0fT2Uq7mI"
      },
      "source": [
        "## **II-** Exploration et Statistiques descriptives :\n",
        "\n",
        "> Explorer le jeu de données"
      ]
    },
    {
      "cell_type": "code",
      "execution_count": 10,
      "metadata": {
        "colab": {
          "base_uri": "https://localhost:8080/"
        },
        "id": "mCuxgDd2n3tn",
        "outputId": "4e10fa2f-364b-4ce2-8586-d37cffb5b8bd"
      },
      "outputs": [
        {
          "data": {
            "text/plain": [
              "Chrome     61432\n",
              "IE         36727\n",
              "Safari     24667\n",
              "FireFox    24610\n",
              "Opera       3676\n",
              "Name: browser, dtype: int64"
            ]
          },
          "execution_count": 10,
          "metadata": {},
          "output_type": "execute_result"
        }
      ],
      "source": [
        "# Répartition des browsers dans le jeu de données\n",
        "browser_count = dfTransaction['browser'].value_counts()\n",
        "browser_count"
      ]
    },
    {
      "cell_type": "code",
      "execution_count": 11,
      "metadata": {
        "colab": {
          "base_uri": "https://localhost:8080/",
          "height": 304
        },
        "id": "79nSK4g-oD7o",
        "outputId": "16d04934-fae6-47dc-e68d-ea25244aed3f"
      },
      "outputs": [
        {
          "name": "stderr",
          "output_type": "stream",
          "text": [
            "C:\\Users\\maoua\\AppData\\Local\\Temp\\ipykernel_4468\\3684777715.py:11: FutureWarning: inplace is deprecated and will be removed in a future version.\n",
            "  is_fraud_groupby.columns.set_levels(['nb_isnot_fraud', 'nb_is_fraud'], level=1, inplace = True)\n"
          ]
        },
        {
          "data": {
            "text/html": [
              "<div>\n",
              "<style scoped>\n",
              "    .dataframe tbody tr th:only-of-type {\n",
              "        vertical-align: middle;\n",
              "    }\n",
              "\n",
              "    .dataframe tbody tr th {\n",
              "        vertical-align: top;\n",
              "    }\n",
              "\n",
              "    .dataframe thead tr th {\n",
              "        text-align: left;\n",
              "    }\n",
              "\n",
              "    .dataframe thead tr:last-of-type th {\n",
              "        text-align: right;\n",
              "    }\n",
              "</style>\n",
              "<table border=\"1\" class=\"dataframe\">\n",
              "  <thead>\n",
              "    <tr>\n",
              "      <th></th>\n",
              "      <th colspan=\"2\" halign=\"left\">is_fraud</th>\n",
              "    </tr>\n",
              "    <tr>\n",
              "      <th></th>\n",
              "      <th>nb_isnot_fraud</th>\n",
              "      <th>nb_is_fraud</th>\n",
              "    </tr>\n",
              "    <tr>\n",
              "      <th>browser</th>\n",
              "      <th></th>\n",
              "      <th></th>\n",
              "    </tr>\n",
              "  </thead>\n",
              "  <tbody>\n",
              "    <tr>\n",
              "      <th>Chrome</th>\n",
              "      <td>55363</td>\n",
              "      <td>6069</td>\n",
              "    </tr>\n",
              "    <tr>\n",
              "      <th>FireFox</th>\n",
              "      <td>22268</td>\n",
              "      <td>2342</td>\n",
              "    </tr>\n",
              "    <tr>\n",
              "      <th>IE</th>\n",
              "      <td>33540</td>\n",
              "      <td>3187</td>\n",
              "    </tr>\n",
              "    <tr>\n",
              "      <th>Opera</th>\n",
              "      <td>3348</td>\n",
              "      <td>328</td>\n",
              "    </tr>\n",
              "    <tr>\n",
              "      <th>Safari</th>\n",
              "      <td>22442</td>\n",
              "      <td>2225</td>\n",
              "    </tr>\n",
              "  </tbody>\n",
              "</table>\n",
              "</div>"
            ],
            "text/plain": [
              "              is_fraud            \n",
              "        nb_isnot_fraud nb_is_fraud\n",
              "browser                           \n",
              "Chrome           55363        6069\n",
              "FireFox          22268        2342\n",
              "IE               33540        3187\n",
              "Opera             3348         328\n",
              "Safari           22442        2225"
            ]
          },
          "execution_count": 11,
          "metadata": {},
          "output_type": "execute_result"
        }
      ],
      "source": [
        "# Repartition achat frauduleux et non frauduleux par browser \n",
        "nb_isnot_fraud = lambda is_fraud: is_fraud[is_fraud == 0].value_counts()\n",
        "nb_is_fraud = lambda is_fraud: is_fraud[is_fraud == 1].value_counts()\n",
        "\n",
        "functions_to_apply = {\n",
        "    'is_fraud' : [nb_isnot_fraud, nb_is_fraud]\n",
        "}\n",
        "\n",
        "is_fraud_groupby = dfTransaction.groupby('browser').agg(functions_to_apply)\n",
        "\n",
        "is_fraud_groupby.columns.set_levels(['nb_isnot_fraud', 'nb_is_fraud'], level=1, inplace = True)\n",
        "\n",
        "is_fraud_groupby.head()"
      ]
    },
    {
      "cell_type": "code",
      "execution_count": 12,
      "metadata": {
        "colab": {
          "base_uri": "https://localhost:8080/",
          "height": 238
        },
        "id": "eGSVHfQvR5yj",
        "outputId": "5ec8344a-3444-44f4-a828-f71d51286849"
      },
      "outputs": [
        {
          "data": {
            "text/html": [
              "<div>\n",
              "<style scoped>\n",
              "    .dataframe tbody tr th:only-of-type {\n",
              "        vertical-align: middle;\n",
              "    }\n",
              "\n",
              "    .dataframe tbody tr th {\n",
              "        vertical-align: top;\n",
              "    }\n",
              "\n",
              "    .dataframe thead th {\n",
              "        text-align: right;\n",
              "    }\n",
              "</style>\n",
              "<table border=\"1\" class=\"dataframe\">\n",
              "  <thead>\n",
              "    <tr style=\"text-align: right;\">\n",
              "      <th></th>\n",
              "      <th>nombre</th>\n",
              "      <th>percentage_fraud</th>\n",
              "    </tr>\n",
              "    <tr>\n",
              "      <th>browser</th>\n",
              "      <th></th>\n",
              "      <th></th>\n",
              "    </tr>\n",
              "  </thead>\n",
              "  <tbody>\n",
              "    <tr>\n",
              "      <th>Chrome</th>\n",
              "      <td>61432</td>\n",
              "      <td>0.098792</td>\n",
              "    </tr>\n",
              "    <tr>\n",
              "      <th>FireFox</th>\n",
              "      <td>24610</td>\n",
              "      <td>0.095165</td>\n",
              "    </tr>\n",
              "    <tr>\n",
              "      <th>IE</th>\n",
              "      <td>36727</td>\n",
              "      <td>0.086775</td>\n",
              "    </tr>\n",
              "    <tr>\n",
              "      <th>Opera</th>\n",
              "      <td>3676</td>\n",
              "      <td>0.089227</td>\n",
              "    </tr>\n",
              "    <tr>\n",
              "      <th>Safari</th>\n",
              "      <td>24667</td>\n",
              "      <td>0.090201</td>\n",
              "    </tr>\n",
              "  </tbody>\n",
              "</table>\n",
              "</div>"
            ],
            "text/plain": [
              "         nombre  percentage_fraud\n",
              "browser                          \n",
              "Chrome    61432          0.098792\n",
              "FireFox   24610          0.095165\n",
              "IE        36727          0.086775\n",
              "Opera      3676          0.089227\n",
              "Safari    24667          0.090201"
            ]
          },
          "execution_count": 12,
          "metadata": {},
          "output_type": "execute_result"
        }
      ],
      "source": [
        "# Proportion (pourcentage) des fraudes par navigateur\n",
        "dfTransaction.groupby('browser').agg(nombre=('is_fraud', 'size'), percentage_fraud=('is_fraud', 'mean'))"
      ]
    },
    {
      "cell_type": "markdown",
      "metadata": {
        "id": "YsCJFbshSHp4"
      },
      "source": [
        "On constate qu'il y a légèrement plus de fraudes sur Chrome même si ce n'est pas très significatif par rapport aux autres navigateurs. La répartition est assez partagée."
      ]
    },
    {
      "cell_type": "code",
      "execution_count": 13,
      "metadata": {
        "colab": {
          "base_uri": "https://localhost:8080/",
          "height": 238
        },
        "id": "J-gxxJ4Eo5IA",
        "outputId": "13f01a8c-d62a-4934-ac6f-80504188b289"
      },
      "outputs": [
        {
          "data": {
            "text/html": [
              "<div>\n",
              "<style scoped>\n",
              "    .dataframe tbody tr th:only-of-type {\n",
              "        vertical-align: middle;\n",
              "    }\n",
              "\n",
              "    .dataframe tbody tr th {\n",
              "        vertical-align: top;\n",
              "    }\n",
              "\n",
              "    .dataframe thead th {\n",
              "        text-align: right;\n",
              "    }\n",
              "</style>\n",
              "<table border=\"1\" class=\"dataframe\">\n",
              "  <thead>\n",
              "    <tr style=\"text-align: right;\">\n",
              "      <th>is_fraud</th>\n",
              "      <th>0</th>\n",
              "      <th>1</th>\n",
              "    </tr>\n",
              "    <tr>\n",
              "      <th>browser</th>\n",
              "      <th></th>\n",
              "      <th></th>\n",
              "    </tr>\n",
              "  </thead>\n",
              "  <tbody>\n",
              "    <tr>\n",
              "      <th>Chrome</th>\n",
              "      <td>55363</td>\n",
              "      <td>6069</td>\n",
              "    </tr>\n",
              "    <tr>\n",
              "      <th>FireFox</th>\n",
              "      <td>22268</td>\n",
              "      <td>2342</td>\n",
              "    </tr>\n",
              "    <tr>\n",
              "      <th>IE</th>\n",
              "      <td>33540</td>\n",
              "      <td>3187</td>\n",
              "    </tr>\n",
              "    <tr>\n",
              "      <th>Opera</th>\n",
              "      <td>3348</td>\n",
              "      <td>328</td>\n",
              "    </tr>\n",
              "    <tr>\n",
              "      <th>Safari</th>\n",
              "      <td>22442</td>\n",
              "      <td>2225</td>\n",
              "    </tr>\n",
              "  </tbody>\n",
              "</table>\n",
              "</div>"
            ],
            "text/plain": [
              "is_fraud      0     1\n",
              "browser              \n",
              "Chrome    55363  6069\n",
              "FireFox   22268  2342\n",
              "IE        33540  3187\n",
              "Opera      3348   328\n",
              "Safari    22442  2225"
            ]
          },
          "execution_count": 13,
          "metadata": {},
          "output_type": "execute_result"
        }
      ],
      "source": [
        "# Crosstab (répartition des fraudes/pas fraudes par browser)\n",
        "table = pd.crosstab(dfTransaction.browser, dfTransaction.is_fraud)\n",
        "table"
      ]
    },
    {
      "cell_type": "code",
      "execution_count": 14,
      "metadata": {
        "colab": {
          "base_uri": "https://localhost:8080/"
        },
        "id": "BHohUYQ2olPe",
        "outputId": "6f89a4fb-162c-4c24-f63b-a5f66756f2ec"
      },
      "outputs": [
        {
          "name": "stdout",
          "output_type": "stream",
          "text": [
            "44.556571734650184 4.916028350364759e-09 4\n"
          ]
        }
      ],
      "source": [
        "# table de contingence (indépendance entre elles des variables browser et is_fraud)\n",
        "from scipy.stats import chi2_contingency\n",
        "\n",
        "resultats_test = chi2_contingency(table)\n",
        "statistique = resultats_test[0]\n",
        "p_valeur = resultats_test[1]\n",
        "degre_liberte = resultats_test[2]\n",
        "\n",
        "print(statistique, p_valeur, degre_liberte)\n",
        "\n",
        "# p-value < 5% donc on rejette (H0 : \"les deux variables browser et is_fraud sont indépendantes\")"
      ]
    },
    {
      "cell_type": "code",
      "execution_count": 15,
      "metadata": {
        "colab": {
          "base_uri": "https://localhost:8080/"
        },
        "id": "wc8fKGGSpPF8",
        "outputId": "621af559-45cf-4c6e-c097-1eed3809e193"
      },
      "outputs": [
        {
          "data": {
            "text/plain": [
              "0.016382585261164186"
            ]
          },
          "execution_count": 15,
          "metadata": {},
          "output_type": "execute_result"
        }
      ],
      "source": [
        "# V_Cramer (vérification browser / is_fraud)\n",
        "import numpy as np \n",
        "def V_Cramer(table3, N):\n",
        "    stat_chi2 = chi2_contingency(table)[0]\n",
        "    k = table.shape[0]\n",
        "    r = table.shape[1]\n",
        "    phi = max(0,(stat_chi2/N)-((k-1)*(r-1)/(N-1)))\n",
        "    k_corr = k - (np.square(k-1)/(N-1))\n",
        "    r_corr = r - (np.square(r-1)/(N-1))\n",
        "    return np.sqrt(phi/min(k_corr - 1,r_corr - 1))\n",
        "\n",
        "V_Cramer(table, dfTransaction.shape[0])\n",
        "\n",
        "#Le V_Cramer n'est pas très élevé.\n",
        "#On en déduit qu'il n'y a pas une forte corrélation entre les deux variables browser et is_fraud."
      ]
    },
    {
      "cell_type": "code",
      "execution_count": 16,
      "metadata": {
        "colab": {
          "base_uri": "https://localhost:8080/",
          "height": 112
        },
        "id": "Bnmlg38GoxOt",
        "outputId": "1971618c-9477-4fb4-be1b-8265ddc1882c"
      },
      "outputs": [
        {
          "data": {
            "text/html": [
              "<div>\n",
              "<style scoped>\n",
              "    .dataframe tbody tr th:only-of-type {\n",
              "        vertical-align: middle;\n",
              "    }\n",
              "\n",
              "    .dataframe tbody tr th {\n",
              "        vertical-align: top;\n",
              "    }\n",
              "\n",
              "    .dataframe thead th {\n",
              "        text-align: right;\n",
              "    }\n",
              "</style>\n",
              "<table border=\"1\" class=\"dataframe\">\n",
              "  <thead>\n",
              "    <tr style=\"text-align: right;\">\n",
              "      <th></th>\n",
              "      <th>df</th>\n",
              "      <th>sum_sq</th>\n",
              "      <th>mean_sq</th>\n",
              "      <th>F</th>\n",
              "      <th>PR(&gt;F)</th>\n",
              "    </tr>\n",
              "  </thead>\n",
              "  <tbody>\n",
              "    <tr>\n",
              "      <th>is_fraud</th>\n",
              "      <td>1.0</td>\n",
              "      <td>4.923416e+02</td>\n",
              "      <td>492.341625</td>\n",
              "      <td>6.629742</td>\n",
              "      <td>0.01003</td>\n",
              "    </tr>\n",
              "    <tr>\n",
              "      <th>Residual</th>\n",
              "      <td>151110.0</td>\n",
              "      <td>1.122182e+07</td>\n",
              "      <td>74.262564</td>\n",
              "      <td>NaN</td>\n",
              "      <td>NaN</td>\n",
              "    </tr>\n",
              "  </tbody>\n",
              "</table>\n",
              "</div>"
            ],
            "text/plain": [
              "                df        sum_sq     mean_sq         F   PR(>F)\n",
              "is_fraud       1.0  4.923416e+02  492.341625  6.629742  0.01003\n",
              "Residual  151110.0  1.122182e+07   74.262564       NaN      NaN"
            ]
          },
          "execution_count": 16,
          "metadata": {},
          "output_type": "execute_result"
        }
      ],
      "source": [
        "# Application de ANNOVA (vérification age / is_fraud)\n",
        "import statsmodels.api \n",
        "\n",
        "result = statsmodels.formula.api.ols('age ~ is_fraud', data=dfTransaction).fit()\n",
        "table2 = statsmodels.api.stats.anova_lm(result)\n",
        "\n",
        "table2\n",
        "\n",
        "#la p-value (PR(>F)) est inférieur à 5% donc on peut dire que l'age influe sur is_fraud."
      ]
    },
    {
      "cell_type": "code",
      "execution_count": 17,
      "metadata": {
        "colab": {
          "base_uri": "https://localhost:8080/"
        },
        "id": "4yKGSssyIiBW",
        "outputId": "b71bf146-aa8a-492e-e6b4-aa9bc026f46c"
      },
      "outputs": [
        {
          "data": {
            "text/plain": [
              "user_id           151112\n",
              "signup_time       151112\n",
              "purchase_time     150679\n",
              "purchase_value       122\n",
              "device_id         137956\n",
              "source                 3\n",
              "browser                5\n",
              "sex                    2\n",
              "age                   58\n",
              "ip_address        143511\n",
              "is_fraud               2\n",
              "time_diff          97895\n",
              "dtype: int64"
            ]
          },
          "execution_count": 17,
          "metadata": {},
          "output_type": "execute_result"
        }
      ],
      "source": [
        "# voir si on a des identifiants (utilisateur, poste, addresse ip) qui se répètent\n",
        "dfTransaction.nunique()"
      ]
    },
    {
      "cell_type": "markdown",
      "metadata": {
        "id": "gAB5KaBWI3cY"
      },
      "source": [
        "**On remarque que certains appareils ont fait plus de transactions que \n",
        "d'autres (leurs nombre est inférieur au nombre total des lignes du dataframe). Cela peut aussi être un indicateur de fraudes. Idem pour les addresses IP.**"
      ]
    },
    {
      "cell_type": "code",
      "execution_count": 18,
      "metadata": {
        "colab": {
          "base_uri": "https://localhost:8080/",
          "height": 143
        },
        "id": "QLS2z5cNL1Y0",
        "outputId": "4b375ca7-3856-4f2a-b485-307744eab854"
      },
      "outputs": [
        {
          "data": {
            "text/html": [
              "<div>\n",
              "<style scoped>\n",
              "    .dataframe tbody tr th:only-of-type {\n",
              "        vertical-align: middle;\n",
              "    }\n",
              "\n",
              "    .dataframe tbody tr th {\n",
              "        vertical-align: top;\n",
              "    }\n",
              "\n",
              "    .dataframe thead th {\n",
              "        text-align: right;\n",
              "    }\n",
              "</style>\n",
              "<table border=\"1\" class=\"dataframe\">\n",
              "  <thead>\n",
              "    <tr style=\"text-align: right;\">\n",
              "      <th></th>\n",
              "      <th>nombre</th>\n",
              "      <th>percentage_fraud</th>\n",
              "    </tr>\n",
              "    <tr>\n",
              "      <th>sex</th>\n",
              "      <th></th>\n",
              "      <th></th>\n",
              "    </tr>\n",
              "  </thead>\n",
              "  <tbody>\n",
              "    <tr>\n",
              "      <th>F</th>\n",
              "      <td>62819</td>\n",
              "      <td>0.091007</td>\n",
              "    </tr>\n",
              "    <tr>\n",
              "      <th>M</th>\n",
              "      <td>88293</td>\n",
              "      <td>0.095523</td>\n",
              "    </tr>\n",
              "  </tbody>\n",
              "</table>\n",
              "</div>"
            ],
            "text/plain": [
              "     nombre  percentage_fraud\n",
              "sex                          \n",
              "F     62819          0.091007\n",
              "M     88293          0.095523"
            ]
          },
          "execution_count": 18,
          "metadata": {},
          "output_type": "execute_result"
        }
      ],
      "source": [
        "# proportion de la fraude entre homme et femme\n",
        "dfTransaction.groupby('sex').agg(nombre=('is_fraud', 'size'), percentage_fraud =('is_fraud', 'mean'))"
      ]
    },
    {
      "cell_type": "markdown",
      "metadata": {
        "id": "Pm94ZrzXMHXE"
      },
      "source": [
        "On constate que les fraudes sont légèrement plus d'origine masculine que féminine."
      ]
    },
    {
      "cell_type": "markdown",
      "metadata": {
        "id": "3Yl9OkQLrmhb"
      },
      "source": [
        "## **III-** Data processing :\n",
        "\n",
        "Transformer les varibales catégorielles pour les préparer au Machine Learning qui suivra.\n"
      ]
    },
    {
      "cell_type": "code",
      "execution_count": 19,
      "metadata": {
        "colab": {
          "base_uri": "https://localhost:8080/",
          "height": 601
        },
        "id": "JZJ2jv4nYqh5",
        "outputId": "05e1fc97-80eb-4e14-96aa-cf57b1b13127"
      },
      "outputs": [
        {
          "data": {
            "text/html": [
              "<div>\n",
              "<style scoped>\n",
              "    .dataframe tbody tr th:only-of-type {\n",
              "        vertical-align: middle;\n",
              "    }\n",
              "\n",
              "    .dataframe tbody tr th {\n",
              "        vertical-align: top;\n",
              "    }\n",
              "\n",
              "    .dataframe thead th {\n",
              "        text-align: right;\n",
              "    }\n",
              "</style>\n",
              "<table border=\"1\" class=\"dataframe\">\n",
              "  <thead>\n",
              "    <tr style=\"text-align: right;\">\n",
              "      <th></th>\n",
              "      <th>user_id</th>\n",
              "      <th>signup_time</th>\n",
              "      <th>purchase_time</th>\n",
              "      <th>purchase_value</th>\n",
              "      <th>device_id</th>\n",
              "      <th>age</th>\n",
              "      <th>ip_address</th>\n",
              "      <th>is_fraud</th>\n",
              "      <th>time_diff</th>\n",
              "      <th>source_Ads</th>\n",
              "      <th>source_Direct</th>\n",
              "      <th>source_SEO</th>\n",
              "      <th>sex_F</th>\n",
              "      <th>sex_M</th>\n",
              "      <th>browser_Chrome</th>\n",
              "      <th>browser_FireFox</th>\n",
              "      <th>browser_IE</th>\n",
              "      <th>browser_Opera</th>\n",
              "      <th>browser_Safari</th>\n",
              "    </tr>\n",
              "  </thead>\n",
              "  <tbody>\n",
              "    <tr>\n",
              "      <th>0</th>\n",
              "      <td>22058</td>\n",
              "      <td>2015-02-24 22:55:49</td>\n",
              "      <td>2015-04-18 02:47:11</td>\n",
              "      <td>34</td>\n",
              "      <td>QVPSPJUOCKZAR</td>\n",
              "      <td>39</td>\n",
              "      <td>7.327584e+08</td>\n",
              "      <td>0</td>\n",
              "      <td>75111.0</td>\n",
              "      <td>0</td>\n",
              "      <td>0</td>\n",
              "      <td>1</td>\n",
              "      <td>0</td>\n",
              "      <td>1</td>\n",
              "      <td>1</td>\n",
              "      <td>0</td>\n",
              "      <td>0</td>\n",
              "      <td>0</td>\n",
              "      <td>0</td>\n",
              "    </tr>\n",
              "    <tr>\n",
              "      <th>1</th>\n",
              "      <td>333320</td>\n",
              "      <td>2015-06-07 20:39:50</td>\n",
              "      <td>2015-06-08 01:38:54</td>\n",
              "      <td>16</td>\n",
              "      <td>EOGFQPIZPYXFZ</td>\n",
              "      <td>53</td>\n",
              "      <td>3.503114e+08</td>\n",
              "      <td>0</td>\n",
              "      <td>299.0</td>\n",
              "      <td>1</td>\n",
              "      <td>0</td>\n",
              "      <td>0</td>\n",
              "      <td>1</td>\n",
              "      <td>0</td>\n",
              "      <td>1</td>\n",
              "      <td>0</td>\n",
              "      <td>0</td>\n",
              "      <td>0</td>\n",
              "      <td>0</td>\n",
              "    </tr>\n",
              "    <tr>\n",
              "      <th>2</th>\n",
              "      <td>1359</td>\n",
              "      <td>2015-01-01 18:52:44</td>\n",
              "      <td>2015-01-01 18:52:45</td>\n",
              "      <td>15</td>\n",
              "      <td>YSSKYOSJHPPLJ</td>\n",
              "      <td>53</td>\n",
              "      <td>2.621474e+09</td>\n",
              "      <td>1</td>\n",
              "      <td>0.0</td>\n",
              "      <td>0</td>\n",
              "      <td>0</td>\n",
              "      <td>1</td>\n",
              "      <td>0</td>\n",
              "      <td>1</td>\n",
              "      <td>0</td>\n",
              "      <td>0</td>\n",
              "      <td>0</td>\n",
              "      <td>1</td>\n",
              "      <td>0</td>\n",
              "    </tr>\n",
              "    <tr>\n",
              "      <th>3</th>\n",
              "      <td>150084</td>\n",
              "      <td>2015-04-28 21:13:25</td>\n",
              "      <td>2015-05-04 13:54:50</td>\n",
              "      <td>44</td>\n",
              "      <td>ATGTXKYKUDUQN</td>\n",
              "      <td>41</td>\n",
              "      <td>3.840542e+09</td>\n",
              "      <td>0</td>\n",
              "      <td>8201.0</td>\n",
              "      <td>0</td>\n",
              "      <td>0</td>\n",
              "      <td>1</td>\n",
              "      <td>0</td>\n",
              "      <td>1</td>\n",
              "      <td>0</td>\n",
              "      <td>0</td>\n",
              "      <td>0</td>\n",
              "      <td>0</td>\n",
              "      <td>1</td>\n",
              "    </tr>\n",
              "    <tr>\n",
              "      <th>4</th>\n",
              "      <td>221365</td>\n",
              "      <td>2015-07-21 07:09:52</td>\n",
              "      <td>2015-09-09 18:40:53</td>\n",
              "      <td>39</td>\n",
              "      <td>NAUITBZFJKHWW</td>\n",
              "      <td>45</td>\n",
              "      <td>4.155831e+08</td>\n",
              "      <td>0</td>\n",
              "      <td>72691.0</td>\n",
              "      <td>1</td>\n",
              "      <td>0</td>\n",
              "      <td>0</td>\n",
              "      <td>0</td>\n",
              "      <td>1</td>\n",
              "      <td>0</td>\n",
              "      <td>0</td>\n",
              "      <td>0</td>\n",
              "      <td>0</td>\n",
              "      <td>1</td>\n",
              "    </tr>\n",
              "    <tr>\n",
              "      <th>5</th>\n",
              "      <td>159135</td>\n",
              "      <td>2015-05-21 06:03:03</td>\n",
              "      <td>2015-07-09 08:05:14</td>\n",
              "      <td>42</td>\n",
              "      <td>ALEYXFXINSXLZ</td>\n",
              "      <td>18</td>\n",
              "      <td>2.809315e+09</td>\n",
              "      <td>0</td>\n",
              "      <td>70682.0</td>\n",
              "      <td>1</td>\n",
              "      <td>0</td>\n",
              "      <td>0</td>\n",
              "      <td>0</td>\n",
              "      <td>1</td>\n",
              "      <td>1</td>\n",
              "      <td>0</td>\n",
              "      <td>0</td>\n",
              "      <td>0</td>\n",
              "      <td>0</td>\n",
              "    </tr>\n",
              "    <tr>\n",
              "      <th>6</th>\n",
              "      <td>50116</td>\n",
              "      <td>2015-08-01 22:40:52</td>\n",
              "      <td>2015-08-27 03:37:57</td>\n",
              "      <td>11</td>\n",
              "      <td>IWKVZHJOCLPUR</td>\n",
              "      <td>19</td>\n",
              "      <td>3.987484e+09</td>\n",
              "      <td>0</td>\n",
              "      <td>36297.0</td>\n",
              "      <td>1</td>\n",
              "      <td>0</td>\n",
              "      <td>0</td>\n",
              "      <td>1</td>\n",
              "      <td>0</td>\n",
              "      <td>1</td>\n",
              "      <td>0</td>\n",
              "      <td>0</td>\n",
              "      <td>0</td>\n",
              "      <td>0</td>\n",
              "    </tr>\n",
              "    <tr>\n",
              "      <th>7</th>\n",
              "      <td>360585</td>\n",
              "      <td>2015-04-06 07:35:45</td>\n",
              "      <td>2015-05-25 17:21:14</td>\n",
              "      <td>27</td>\n",
              "      <td>HPUCUYLMJBYFW</td>\n",
              "      <td>34</td>\n",
              "      <td>1.692459e+09</td>\n",
              "      <td>0</td>\n",
              "      <td>71145.0</td>\n",
              "      <td>1</td>\n",
              "      <td>0</td>\n",
              "      <td>0</td>\n",
              "      <td>0</td>\n",
              "      <td>1</td>\n",
              "      <td>0</td>\n",
              "      <td>0</td>\n",
              "      <td>0</td>\n",
              "      <td>1</td>\n",
              "      <td>0</td>\n",
              "    </tr>\n",
              "    <tr>\n",
              "      <th>8</th>\n",
              "      <td>159045</td>\n",
              "      <td>2015-04-21 23:38:34</td>\n",
              "      <td>2015-06-02 14:01:54</td>\n",
              "      <td>30</td>\n",
              "      <td>ILXYDOZIHOOHT</td>\n",
              "      <td>43</td>\n",
              "      <td>3.719094e+09</td>\n",
              "      <td>0</td>\n",
              "      <td>59903.0</td>\n",
              "      <td>0</td>\n",
              "      <td>0</td>\n",
              "      <td>1</td>\n",
              "      <td>1</td>\n",
              "      <td>0</td>\n",
              "      <td>0</td>\n",
              "      <td>0</td>\n",
              "      <td>1</td>\n",
              "      <td>0</td>\n",
              "      <td>0</td>\n",
              "    </tr>\n",
              "    <tr>\n",
              "      <th>9</th>\n",
              "      <td>182338</td>\n",
              "      <td>2015-01-25 17:49:49</td>\n",
              "      <td>2015-03-23 23:05:42</td>\n",
              "      <td>62</td>\n",
              "      <td>NRFFPPHZYFUVC</td>\n",
              "      <td>31</td>\n",
              "      <td>3.416747e+08</td>\n",
              "      <td>0</td>\n",
              "      <td>82395.0</td>\n",
              "      <td>1</td>\n",
              "      <td>0</td>\n",
              "      <td>0</td>\n",
              "      <td>0</td>\n",
              "      <td>1</td>\n",
              "      <td>0</td>\n",
              "      <td>0</td>\n",
              "      <td>1</td>\n",
              "      <td>0</td>\n",
              "      <td>0</td>\n",
              "    </tr>\n",
              "  </tbody>\n",
              "</table>\n",
              "</div>"
            ],
            "text/plain": [
              "   user_id         signup_time       purchase_time  purchase_value  \\\n",
              "0    22058 2015-02-24 22:55:49 2015-04-18 02:47:11              34   \n",
              "1   333320 2015-06-07 20:39:50 2015-06-08 01:38:54              16   \n",
              "2     1359 2015-01-01 18:52:44 2015-01-01 18:52:45              15   \n",
              "3   150084 2015-04-28 21:13:25 2015-05-04 13:54:50              44   \n",
              "4   221365 2015-07-21 07:09:52 2015-09-09 18:40:53              39   \n",
              "5   159135 2015-05-21 06:03:03 2015-07-09 08:05:14              42   \n",
              "6    50116 2015-08-01 22:40:52 2015-08-27 03:37:57              11   \n",
              "7   360585 2015-04-06 07:35:45 2015-05-25 17:21:14              27   \n",
              "8   159045 2015-04-21 23:38:34 2015-06-02 14:01:54              30   \n",
              "9   182338 2015-01-25 17:49:49 2015-03-23 23:05:42              62   \n",
              "\n",
              "       device_id  age    ip_address  is_fraud  time_diff  source_Ads  \\\n",
              "0  QVPSPJUOCKZAR   39  7.327584e+08         0    75111.0           0   \n",
              "1  EOGFQPIZPYXFZ   53  3.503114e+08         0      299.0           1   \n",
              "2  YSSKYOSJHPPLJ   53  2.621474e+09         1        0.0           0   \n",
              "3  ATGTXKYKUDUQN   41  3.840542e+09         0     8201.0           0   \n",
              "4  NAUITBZFJKHWW   45  4.155831e+08         0    72691.0           1   \n",
              "5  ALEYXFXINSXLZ   18  2.809315e+09         0    70682.0           1   \n",
              "6  IWKVZHJOCLPUR   19  3.987484e+09         0    36297.0           1   \n",
              "7  HPUCUYLMJBYFW   34  1.692459e+09         0    71145.0           1   \n",
              "8  ILXYDOZIHOOHT   43  3.719094e+09         0    59903.0           0   \n",
              "9  NRFFPPHZYFUVC   31  3.416747e+08         0    82395.0           1   \n",
              "\n",
              "   source_Direct  source_SEO  sex_F  sex_M  browser_Chrome  browser_FireFox  \\\n",
              "0              0           1      0      1               1                0   \n",
              "1              0           0      1      0               1                0   \n",
              "2              0           1      0      1               0                0   \n",
              "3              0           1      0      1               0                0   \n",
              "4              0           0      0      1               0                0   \n",
              "5              0           0      0      1               1                0   \n",
              "6              0           0      1      0               1                0   \n",
              "7              0           0      0      1               0                0   \n",
              "8              0           1      1      0               0                0   \n",
              "9              0           0      0      1               0                0   \n",
              "\n",
              "   browser_IE  browser_Opera  browser_Safari  \n",
              "0           0              0               0  \n",
              "1           0              0               0  \n",
              "2           0              1               0  \n",
              "3           0              0               1  \n",
              "4           0              0               1  \n",
              "5           0              0               0  \n",
              "6           0              0               0  \n",
              "7           0              1               0  \n",
              "8           1              0               0  \n",
              "9           1              0               0  "
            ]
          },
          "execution_count": 19,
          "metadata": {},
          "output_type": "execute_result"
        }
      ],
      "source": [
        "# Transformation des varibales catégorielles\n",
        "dfTransact = pd.get_dummies(dfTransaction, columns=['source','sex', 'browser'])\n",
        "dfTransact.head(10)"
      ]
    },
    {
      "cell_type": "markdown",
      "metadata": {
        "id": "5IIO2PSZsWJh"
      },
      "source": [
        "## **IV-** Visualisation   \n",
        "\n",
        "Visualiser certaines variables en fonction d'autres afin d'en comprendre aux mieux les corrélations et en détecter celles qui seraient les plus liées à des transactions frauduleuses."
      ]
    },
    {
      "cell_type": "code",
      "execution_count": 20,
      "metadata": {
        "colab": {
          "base_uri": "https://localhost:8080/",
          "height": 400
        },
        "id": "5eBLAN46VwVc",
        "outputId": "f6bf3bca-8459-4714-e13b-62e42267612a"
      },
      "outputs": [
        {
          "data": {
            "image/png": "[encoded data removed]",
            "text/plain": [
              "<Figure size 407.75x360 with 1 Axes>"
            ]
          },
          "metadata": {
            "needs_background": "light"
          },
          "output_type": "display_data"
        }
      ],
      "source": [
        "# Visualisation de time_diff en fonction de is_fraud\n",
        "title = 'Distribution globale de la differnce entre l\\'heure de la connexion\\n et l\\'heure de l\\'achat'\n",
        "sns.displot(data=dfTransaction, x=dfTransaction['time_diff'], hue=dfTransaction['is_fraud'])\n",
        "plt.title(title)\n",
        "plt.show()"
      ]
    },
    {
      "cell_type": "markdown",
      "metadata": {
        "id": "AFPunYIktuyY"
      },
      "source": [
        "**On peut constater que les transactions de très courtes durées (temps entre moment d'achat et moment de connexion) seront considérées comme frauduleuses.**  "
      ]
    },
    {
      "cell_type": "code",
      "execution_count": 21,
      "metadata": {
        "colab": {
          "base_uri": "https://localhost:8080/",
          "height": 385
        },
        "id": "E96DjJayV-op",
        "outputId": "da46d1de-6fa3-4573-8cb9-4d430db7229b"
      },
      "outputs": [
        {
          "data": {
            "image/png": "[encoded data removed]",
            "text/plain": [
              "<Figure size 566.111x500 with 1 Axes>"
            ]
          },
          "metadata": {},
          "output_type": "display_data"
        }
      ],
      "source": [
        "# Purchase_value en fonction de is_fraud\n",
        "sns.displot(data=dfTransaction, x=dfTransaction['purchase_value'], hue=dfTransaction['is_fraud'], kind=\"kde\", multiple=\"stack\")\n",
        "plt.title('Distribution globale de la variable montant d\\'achat')\n",
        "plt.show()"
      ]
    },
    {
      "cell_type": "markdown",
      "metadata": {
        "id": "kuzlBvy4t6Iu"
      },
      "source": [
        "L'évolution de la valeur d'achat est similaire à celle des transactions qu'elles soient frauduleuses ou non."
      ]
    },
    {
      "cell_type": "code",
      "execution_count": 22,
      "metadata": {
        "colab": {
          "base_uri": "https://localhost:8080/",
          "height": 385
        },
        "id": "neYyvFLOWQZ-",
        "outputId": "9e1bfe6b-92d7-44a2-fb78-5c7d58668df1"
      },
      "outputs": [
        {
          "data": {
            "image/png": "[encoded data removed]",
            "text/plain": [
              "<Figure size 566.111x500 with 1 Axes>"
            ]
          },
          "metadata": {},
          "output_type": "display_data"
        }
      ],
      "source": [
        "# Purchase_value en fonction de is_fraud\n",
        "sns.displot(data=dfTransaction, x=dfTransaction['age'], hue=dfTransaction['is_fraud'], kind=\"kde\", multiple=\"stack\")\n",
        "plt.title('Distribution globale de la variable age')\n",
        "plt.show()"
      ]
    },
    {
      "cell_type": "markdown",
      "metadata": {
        "id": "gU9GWBbTuQh7"
      },
      "source": [
        "On constate la même chose pour l'âge."
      ]
    },
    {
      "cell_type": "code",
      "execution_count": 23,
      "metadata": {
        "colab": {
          "base_uri": "https://localhost:8080/",
          "height": 264
        },
        "id": "L_c-b05vX8j9",
        "outputId": "2024ad49-5ec0-4f29-b60c-12bbfea08d46"
      },
      "outputs": [
        {
          "data": {
            "image/png": "[encoded data removed]",
            "text/plain": [
              "<Figure size 640x480 with 1 Axes>"
            ]
          },
          "metadata": {},
          "output_type": "display_data"
        }
      ],
      "source": [
        "# Répartition de la fraude sur l'ensemble des données\n",
        "fraud_val = dfTransaction.is_fraud.value_counts(sort = True, ascending = False)\n",
        "labels = ('transactions normale','transaction frauduleuse')\n",
        "fig1, ax1 = plt.subplots()\n",
        "explode = (0.1, 0) \n",
        "ax1.pie(fraud_val.values,explode=explode, labels=labels, autopct='%1.1f%%',\n",
        "        shadow=True, startangle=90)\n",
        "plt.title('Proportion de la fraude sur la totalité des données')\n",
        "plt.show()"
      ]
    },
    {
      "cell_type": "markdown",
      "metadata": {
        "id": "Bd8QxjOAucRi"
      },
      "source": [
        "Les transactions frauduleuses constituent à peu près 10% de l'ensemble des achats."
      ]
    },
    {
      "cell_type": "code",
      "execution_count": 24,
      "metadata": {
        "colab": {
          "base_uri": "https://localhost:8080/",
          "height": 351
        },
        "id": "aRuXG6Gwyxym",
        "outputId": "0fbe2570-0962-4b8c-a571-e60aed325228"
      },
      "outputs": [
        {
          "data": {
            "text/plain": [
              "<AxesSubplot:xlabel='browser', ylabel='is_fraud'>"
            ]
          },
          "execution_count": 24,
          "metadata": {},
          "output_type": "execute_result"
        },
        {
          "data": {
            "image/png": "[encoded data removed]",
            "text/plain": [
              "<Figure size 1900x500 with 3 Axes>"
            ]
          },
          "metadata": {},
          "output_type": "display_data"
        }
      ],
      "source": [
        "# Barres sex, age, browser\n",
        "fig, ax = plt.subplots(1,3,figsize=(19,5))\n",
        "sns.barplot(x='sex', y='is_fraud', data=dfTransaction, ax=ax[0])\n",
        "\n",
        "sns.barplot(x='source', y='is_fraud', data=dfTransaction, ax=ax[1])\n",
        "\n",
        "sns.barplot(x='browser', y='is_fraud', data=dfTransaction, ax=ax[2])"
      ]
    },
    {
      "cell_type": "markdown",
      "metadata": {
        "id": "l9T_3p1Gurm0"
      },
      "source": [
        "On constate que la répartition de la fraude est similaire indépendamment du sexe, de la source ou du browser."
      ]
    },
    {
      "cell_type": "markdown",
      "metadata": {
        "id": "XVSO18SjtIBA"
      },
      "source": [
        "## **V-**  Machine learning    \n",
        "\n",
        "Entraîner et évaluer les modèles de classification.\n",
        "\n"
      ]
    },
    {
      "cell_type": "markdown",
      "metadata": {
        "id": "ipFjZv2PtMcm"
      },
      "source": [
        "### Application des modèles de classification (Régression logistique) avant oversamling\n",
        "\n",
        "> Préparer les données en séparant les variables explicatives de la variable cible.\n",
        ">\n",
        "> Séparer le jeu de données en deux : un jeu d'entraînement et un jeu de test.\n",
        ">\n",
        "> Instancier le(s) modèle(s).\n",
        ">\n",
        "> Entrainer le(s) modèle(s) : model.fit(X_train, y_train).\n",
        ">\n",
        "> Prédir : model.predict(X_test, y_test)."
      ]
    },
    {
      "cell_type": "code",
      "execution_count": 25,
      "metadata": {
        "colab": {
          "base_uri": "https://localhost:8080/",
          "height": 206
        },
        "id": "HfjB4QLavELm",
        "outputId": "960ab584-bfa0-4a06-cc9a-d5a9fe900e20"
      },
      "outputs": [
        {
          "data": {
            "text/html": [
              "<div>\n",
              "<style scoped>\n",
              "    .dataframe tbody tr th:only-of-type {\n",
              "        vertical-align: middle;\n",
              "    }\n",
              "\n",
              "    .dataframe tbody tr th {\n",
              "        vertical-align: top;\n",
              "    }\n",
              "\n",
              "    .dataframe thead th {\n",
              "        text-align: right;\n",
              "    }\n",
              "</style>\n",
              "<table border=\"1\" class=\"dataframe\">\n",
              "  <thead>\n",
              "    <tr style=\"text-align: right;\">\n",
              "      <th></th>\n",
              "      <th>purchase_value</th>\n",
              "      <th>age</th>\n",
              "      <th>is_fraud</th>\n",
              "      <th>time_diff</th>\n",
              "      <th>source_Ads</th>\n",
              "      <th>source_Direct</th>\n",
              "      <th>source_SEO</th>\n",
              "      <th>sex_F</th>\n",
              "      <th>sex_M</th>\n",
              "      <th>browser_Chrome</th>\n",
              "      <th>browser_FireFox</th>\n",
              "      <th>browser_IE</th>\n",
              "      <th>browser_Opera</th>\n",
              "      <th>browser_Safari</th>\n",
              "    </tr>\n",
              "  </thead>\n",
              "  <tbody>\n",
              "    <tr>\n",
              "      <th>0</th>\n",
              "      <td>34</td>\n",
              "      <td>39</td>\n",
              "      <td>0</td>\n",
              "      <td>75111.0</td>\n",
              "      <td>0</td>\n",
              "      <td>0</td>\n",
              "      <td>1</td>\n",
              "      <td>0</td>\n",
              "      <td>1</td>\n",
              "      <td>1</td>\n",
              "      <td>0</td>\n",
              "      <td>0</td>\n",
              "      <td>0</td>\n",
              "      <td>0</td>\n",
              "    </tr>\n",
              "    <tr>\n",
              "      <th>1</th>\n",
              "      <td>16</td>\n",
              "      <td>53</td>\n",
              "      <td>0</td>\n",
              "      <td>299.0</td>\n",
              "      <td>1</td>\n",
              "      <td>0</td>\n",
              "      <td>0</td>\n",
              "      <td>1</td>\n",
              "      <td>0</td>\n",
              "      <td>1</td>\n",
              "      <td>0</td>\n",
              "      <td>0</td>\n",
              "      <td>0</td>\n",
              "      <td>0</td>\n",
              "    </tr>\n",
              "    <tr>\n",
              "      <th>2</th>\n",
              "      <td>15</td>\n",
              "      <td>53</td>\n",
              "      <td>1</td>\n",
              "      <td>0.0</td>\n",
              "      <td>0</td>\n",
              "      <td>0</td>\n",
              "      <td>1</td>\n",
              "      <td>0</td>\n",
              "      <td>1</td>\n",
              "      <td>0</td>\n",
              "      <td>0</td>\n",
              "      <td>0</td>\n",
              "      <td>1</td>\n",
              "      <td>0</td>\n",
              "    </tr>\n",
              "    <tr>\n",
              "      <th>3</th>\n",
              "      <td>44</td>\n",
              "      <td>41</td>\n",
              "      <td>0</td>\n",
              "      <td>8201.0</td>\n",
              "      <td>0</td>\n",
              "      <td>0</td>\n",
              "      <td>1</td>\n",
              "      <td>0</td>\n",
              "      <td>1</td>\n",
              "      <td>0</td>\n",
              "      <td>0</td>\n",
              "      <td>0</td>\n",
              "      <td>0</td>\n",
              "      <td>1</td>\n",
              "    </tr>\n",
              "    <tr>\n",
              "      <th>4</th>\n",
              "      <td>39</td>\n",
              "      <td>45</td>\n",
              "      <td>0</td>\n",
              "      <td>72691.0</td>\n",
              "      <td>1</td>\n",
              "      <td>0</td>\n",
              "      <td>0</td>\n",
              "      <td>0</td>\n",
              "      <td>1</td>\n",
              "      <td>0</td>\n",
              "      <td>0</td>\n",
              "      <td>0</td>\n",
              "      <td>0</td>\n",
              "      <td>1</td>\n",
              "    </tr>\n",
              "  </tbody>\n",
              "</table>\n",
              "</div>"
            ],
            "text/plain": [
              "   purchase_value  age  is_fraud  time_diff  source_Ads  source_Direct  \\\n",
              "0              34   39         0    75111.0           0              0   \n",
              "1              16   53         0      299.0           1              0   \n",
              "2              15   53         1        0.0           0              0   \n",
              "3              44   41         0     8201.0           0              0   \n",
              "4              39   45         0    72691.0           1              0   \n",
              "\n",
              "   source_SEO  sex_F  sex_M  browser_Chrome  browser_FireFox  browser_IE  \\\n",
              "0           1      0      1               1                0           0   \n",
              "1           0      1      0               1                0           0   \n",
              "2           1      0      1               0                0           0   \n",
              "3           1      0      1               0                0           0   \n",
              "4           0      0      1               0                0           0   \n",
              "\n",
              "   browser_Opera  browser_Safari  \n",
              "0              0               0  \n",
              "1              0               0  \n",
              "2              1               0  \n",
              "3              0               1  \n",
              "4              0               1  "
            ]
          },
          "execution_count": 25,
          "metadata": {},
          "output_type": "execute_result"
        }
      ],
      "source": [
        "# Drop pour ne garder que les variables explicatives à faire appliquer au modèle\n",
        "dfTransactTemp = dfTransact.drop(['signup_time', 'purchase_time', 'device_id','user_id', 'ip_address'], axis = 1)\n",
        "dfTransactTemp.head()"
      ]
    },
    {
      "cell_type": "markdown",
      "metadata": {
        "id": "J-AnqEnOv4Oj"
      },
      "source": [
        "**Nous remarquons que les variables ne sont pas standadisées (age, purchase_value, time_diff par rapport au reste).** Trop d'écart entre les max et les min.   \n",
        "\n",
        "**Nous allons donc standardiser les données à l'aide de MinMaxScaler**"
      ]
    },
    {
      "cell_type": "code",
      "execution_count": 26,
      "metadata": {
        "colab": {
          "base_uri": "https://localhost:8080/",
          "height": 206
        },
        "id": "W4ZSsJxzYVJA",
        "outputId": "21e03d97-70cc-45a5-c314-d51c15d3b08e"
      },
      "outputs": [
        {
          "data": {
            "text/html": [
              "<div>\n",
              "<style scoped>\n",
              "    .dataframe tbody tr th:only-of-type {\n",
              "        vertical-align: middle;\n",
              "    }\n",
              "\n",
              "    .dataframe tbody tr th {\n",
              "        vertical-align: top;\n",
              "    }\n",
              "\n",
              "    .dataframe thead th {\n",
              "        text-align: right;\n",
              "    }\n",
              "</style>\n",
              "<table border=\"1\" class=\"dataframe\">\n",
              "  <thead>\n",
              "    <tr style=\"text-align: right;\">\n",
              "      <th></th>\n",
              "      <th>purchase_value</th>\n",
              "      <th>age</th>\n",
              "      <th>is_fraud</th>\n",
              "      <th>time_diff</th>\n",
              "      <th>source_Ads</th>\n",
              "      <th>source_Direct</th>\n",
              "      <th>source_SEO</th>\n",
              "      <th>sex_F</th>\n",
              "      <th>sex_M</th>\n",
              "      <th>browser_Chrome</th>\n",
              "      <th>browser_FireFox</th>\n",
              "      <th>browser_IE</th>\n",
              "      <th>browser_Opera</th>\n",
              "      <th>browser_Safari</th>\n",
              "    </tr>\n",
              "  </thead>\n",
              "  <tbody>\n",
              "    <tr>\n",
              "      <th>0</th>\n",
              "      <td>0.172414</td>\n",
              "      <td>0.362069</td>\n",
              "      <td>0.0</td>\n",
              "      <td>0.434673</td>\n",
              "      <td>0.0</td>\n",
              "      <td>0.0</td>\n",
              "      <td>1.0</td>\n",
              "      <td>0.0</td>\n",
              "      <td>1.0</td>\n",
              "      <td>1.0</td>\n",
              "      <td>0.0</td>\n",
              "      <td>0.0</td>\n",
              "      <td>0.0</td>\n",
              "      <td>0.0</td>\n",
              "    </tr>\n",
              "    <tr>\n",
              "      <th>1</th>\n",
              "      <td>0.048276</td>\n",
              "      <td>0.603448</td>\n",
              "      <td>0.0</td>\n",
              "      <td>0.001730</td>\n",
              "      <td>1.0</td>\n",
              "      <td>0.0</td>\n",
              "      <td>0.0</td>\n",
              "      <td>1.0</td>\n",
              "      <td>0.0</td>\n",
              "      <td>1.0</td>\n",
              "      <td>0.0</td>\n",
              "      <td>0.0</td>\n",
              "      <td>0.0</td>\n",
              "      <td>0.0</td>\n",
              "    </tr>\n",
              "    <tr>\n",
              "      <th>2</th>\n",
              "      <td>0.041379</td>\n",
              "      <td>0.603448</td>\n",
              "      <td>1.0</td>\n",
              "      <td>0.000000</td>\n",
              "      <td>0.0</td>\n",
              "      <td>0.0</td>\n",
              "      <td>1.0</td>\n",
              "      <td>0.0</td>\n",
              "      <td>1.0</td>\n",
              "      <td>0.0</td>\n",
              "      <td>0.0</td>\n",
              "      <td>0.0</td>\n",
              "      <td>1.0</td>\n",
              "      <td>0.0</td>\n",
              "    </tr>\n",
              "    <tr>\n",
              "      <th>3</th>\n",
              "      <td>0.241379</td>\n",
              "      <td>0.396552</td>\n",
              "      <td>0.0</td>\n",
              "      <td>0.047460</td>\n",
              "      <td>0.0</td>\n",
              "      <td>0.0</td>\n",
              "      <td>1.0</td>\n",
              "      <td>0.0</td>\n",
              "      <td>1.0</td>\n",
              "      <td>0.0</td>\n",
              "      <td>0.0</td>\n",
              "      <td>0.0</td>\n",
              "      <td>0.0</td>\n",
              "      <td>1.0</td>\n",
              "    </tr>\n",
              "    <tr>\n",
              "      <th>4</th>\n",
              "      <td>0.206897</td>\n",
              "      <td>0.465517</td>\n",
              "      <td>0.0</td>\n",
              "      <td>0.420668</td>\n",
              "      <td>1.0</td>\n",
              "      <td>0.0</td>\n",
              "      <td>0.0</td>\n",
              "      <td>0.0</td>\n",
              "      <td>1.0</td>\n",
              "      <td>0.0</td>\n",
              "      <td>0.0</td>\n",
              "      <td>0.0</td>\n",
              "      <td>0.0</td>\n",
              "      <td>1.0</td>\n",
              "    </tr>\n",
              "  </tbody>\n",
              "</table>\n",
              "</div>"
            ],
            "text/plain": [
              "   purchase_value       age  is_fraud  time_diff  source_Ads  source_Direct  \\\n",
              "0        0.172414  0.362069       0.0   0.434673         0.0            0.0   \n",
              "1        0.048276  0.603448       0.0   0.001730         1.0            0.0   \n",
              "2        0.041379  0.603448       1.0   0.000000         0.0            0.0   \n",
              "3        0.241379  0.396552       0.0   0.047460         0.0            0.0   \n",
              "4        0.206897  0.465517       0.0   0.420668         1.0            0.0   \n",
              "\n",
              "   source_SEO  sex_F  sex_M  browser_Chrome  browser_FireFox  browser_IE  \\\n",
              "0         1.0    0.0    1.0             1.0              0.0         0.0   \n",
              "1         0.0    1.0    0.0             1.0              0.0         0.0   \n",
              "2         1.0    0.0    1.0             0.0              0.0         0.0   \n",
              "3         1.0    0.0    1.0             0.0              0.0         0.0   \n",
              "4         0.0    0.0    1.0             0.0              0.0         0.0   \n",
              "\n",
              "   browser_Opera  browser_Safari  \n",
              "0            0.0             0.0  \n",
              "1            0.0             0.0  \n",
              "2            1.0             0.0  \n",
              "3            0.0             1.0  \n",
              "4            0.0             1.0  "
            ]
          },
          "execution_count": 26,
          "metadata": {},
          "output_type": "execute_result"
        }
      ],
      "source": [
        "# define min max scaler\n",
        "scaler = MinMaxScaler()\n",
        "\n",
        "# transform data\n",
        "dfTransactScaler = pd.DataFrame(scaler.fit_transform(dfTransactTemp.values), index=dfTransactTemp.index, columns=dfTransactTemp.columns)\n",
        "dfTransactScaler.head()"
      ]
    },
    {
      "cell_type": "markdown",
      "metadata": {
        "id": "Uun2DmxIwozO"
      },
      "source": [
        "On procède maintenant à la séparation des variables explicatives de la variable cible."
      ]
    },
    {
      "cell_type": "code",
      "execution_count": 27,
      "metadata": {
        "colab": {
          "base_uri": "https://localhost:8080/",
          "height": 363
        },
        "id": "6_TeRFkOwi1w",
        "outputId": "24680731-0e41-483c-feba-cc7d2c4ad286"
      },
      "outputs": [
        {
          "data": {
            "text/html": [
              "<div>\n",
              "<style scoped>\n",
              "    .dataframe tbody tr th:only-of-type {\n",
              "        vertical-align: middle;\n",
              "    }\n",
              "\n",
              "    .dataframe tbody tr th {\n",
              "        vertical-align: top;\n",
              "    }\n",
              "\n",
              "    .dataframe thead th {\n",
              "        text-align: right;\n",
              "    }\n",
              "</style>\n",
              "<table border=\"1\" class=\"dataframe\">\n",
              "  <thead>\n",
              "    <tr style=\"text-align: right;\">\n",
              "      <th></th>\n",
              "      <th>purchase_value</th>\n",
              "      <th>age</th>\n",
              "      <th>time_diff</th>\n",
              "      <th>source_Ads</th>\n",
              "      <th>source_Direct</th>\n",
              "      <th>source_SEO</th>\n",
              "      <th>sex_F</th>\n",
              "      <th>sex_M</th>\n",
              "      <th>browser_Chrome</th>\n",
              "      <th>browser_FireFox</th>\n",
              "      <th>browser_IE</th>\n",
              "      <th>browser_Opera</th>\n",
              "      <th>browser_Safari</th>\n",
              "    </tr>\n",
              "  </thead>\n",
              "  <tbody>\n",
              "    <tr>\n",
              "      <th>0</th>\n",
              "      <td>0.172414</td>\n",
              "      <td>0.362069</td>\n",
              "      <td>0.434673</td>\n",
              "      <td>0.0</td>\n",
              "      <td>0.0</td>\n",
              "      <td>1.0</td>\n",
              "      <td>0.0</td>\n",
              "      <td>1.0</td>\n",
              "      <td>1.0</td>\n",
              "      <td>0.0</td>\n",
              "      <td>0.0</td>\n",
              "      <td>0.0</td>\n",
              "      <td>0.0</td>\n",
              "    </tr>\n",
              "    <tr>\n",
              "      <th>1</th>\n",
              "      <td>0.048276</td>\n",
              "      <td>0.603448</td>\n",
              "      <td>0.001730</td>\n",
              "      <td>1.0</td>\n",
              "      <td>0.0</td>\n",
              "      <td>0.0</td>\n",
              "      <td>1.0</td>\n",
              "      <td>0.0</td>\n",
              "      <td>1.0</td>\n",
              "      <td>0.0</td>\n",
              "      <td>0.0</td>\n",
              "      <td>0.0</td>\n",
              "      <td>0.0</td>\n",
              "    </tr>\n",
              "    <tr>\n",
              "      <th>2</th>\n",
              "      <td>0.041379</td>\n",
              "      <td>0.603448</td>\n",
              "      <td>0.000000</td>\n",
              "      <td>0.0</td>\n",
              "      <td>0.0</td>\n",
              "      <td>1.0</td>\n",
              "      <td>0.0</td>\n",
              "      <td>1.0</td>\n",
              "      <td>0.0</td>\n",
              "      <td>0.0</td>\n",
              "      <td>0.0</td>\n",
              "      <td>1.0</td>\n",
              "      <td>0.0</td>\n",
              "    </tr>\n",
              "    <tr>\n",
              "      <th>3</th>\n",
              "      <td>0.241379</td>\n",
              "      <td>0.396552</td>\n",
              "      <td>0.047460</td>\n",
              "      <td>0.0</td>\n",
              "      <td>0.0</td>\n",
              "      <td>1.0</td>\n",
              "      <td>0.0</td>\n",
              "      <td>1.0</td>\n",
              "      <td>0.0</td>\n",
              "      <td>0.0</td>\n",
              "      <td>0.0</td>\n",
              "      <td>0.0</td>\n",
              "      <td>1.0</td>\n",
              "    </tr>\n",
              "    <tr>\n",
              "      <th>4</th>\n",
              "      <td>0.206897</td>\n",
              "      <td>0.465517</td>\n",
              "      <td>0.420668</td>\n",
              "      <td>1.0</td>\n",
              "      <td>0.0</td>\n",
              "      <td>0.0</td>\n",
              "      <td>0.0</td>\n",
              "      <td>1.0</td>\n",
              "      <td>0.0</td>\n",
              "      <td>0.0</td>\n",
              "      <td>0.0</td>\n",
              "      <td>0.0</td>\n",
              "      <td>1.0</td>\n",
              "    </tr>\n",
              "    <tr>\n",
              "      <th>5</th>\n",
              "      <td>0.227586</td>\n",
              "      <td>0.000000</td>\n",
              "      <td>0.409042</td>\n",
              "      <td>1.0</td>\n",
              "      <td>0.0</td>\n",
              "      <td>0.0</td>\n",
              "      <td>0.0</td>\n",
              "      <td>1.0</td>\n",
              "      <td>1.0</td>\n",
              "      <td>0.0</td>\n",
              "      <td>0.0</td>\n",
              "      <td>0.0</td>\n",
              "      <td>0.0</td>\n",
              "    </tr>\n",
              "    <tr>\n",
              "      <th>6</th>\n",
              "      <td>0.013793</td>\n",
              "      <td>0.017241</td>\n",
              "      <td>0.210053</td>\n",
              "      <td>1.0</td>\n",
              "      <td>0.0</td>\n",
              "      <td>0.0</td>\n",
              "      <td>1.0</td>\n",
              "      <td>0.0</td>\n",
              "      <td>1.0</td>\n",
              "      <td>0.0</td>\n",
              "      <td>0.0</td>\n",
              "      <td>0.0</td>\n",
              "      <td>0.0</td>\n",
              "    </tr>\n",
              "    <tr>\n",
              "      <th>7</th>\n",
              "      <td>0.124138</td>\n",
              "      <td>0.275862</td>\n",
              "      <td>0.411721</td>\n",
              "      <td>1.0</td>\n",
              "      <td>0.0</td>\n",
              "      <td>0.0</td>\n",
              "      <td>0.0</td>\n",
              "      <td>1.0</td>\n",
              "      <td>0.0</td>\n",
              "      <td>0.0</td>\n",
              "      <td>0.0</td>\n",
              "      <td>1.0</td>\n",
              "      <td>0.0</td>\n",
              "    </tr>\n",
              "    <tr>\n",
              "      <th>8</th>\n",
              "      <td>0.144828</td>\n",
              "      <td>0.431034</td>\n",
              "      <td>0.346663</td>\n",
              "      <td>0.0</td>\n",
              "      <td>0.0</td>\n",
              "      <td>1.0</td>\n",
              "      <td>1.0</td>\n",
              "      <td>0.0</td>\n",
              "      <td>0.0</td>\n",
              "      <td>0.0</td>\n",
              "      <td>1.0</td>\n",
              "      <td>0.0</td>\n",
              "      <td>0.0</td>\n",
              "    </tr>\n",
              "    <tr>\n",
              "      <th>9</th>\n",
              "      <td>0.365517</td>\n",
              "      <td>0.224138</td>\n",
              "      <td>0.476826</td>\n",
              "      <td>1.0</td>\n",
              "      <td>0.0</td>\n",
              "      <td>0.0</td>\n",
              "      <td>0.0</td>\n",
              "      <td>1.0</td>\n",
              "      <td>0.0</td>\n",
              "      <td>0.0</td>\n",
              "      <td>1.0</td>\n",
              "      <td>0.0</td>\n",
              "      <td>0.0</td>\n",
              "    </tr>\n",
              "  </tbody>\n",
              "</table>\n",
              "</div>"
            ],
            "text/plain": [
              "   purchase_value       age  time_diff  source_Ads  source_Direct  source_SEO  \\\n",
              "0        0.172414  0.362069   0.434673         0.0            0.0         1.0   \n",
              "1        0.048276  0.603448   0.001730         1.0            0.0         0.0   \n",
              "2        0.041379  0.603448   0.000000         0.0            0.0         1.0   \n",
              "3        0.241379  0.396552   0.047460         0.0            0.0         1.0   \n",
              "4        0.206897  0.465517   0.420668         1.0            0.0         0.0   \n",
              "5        0.227586  0.000000   0.409042         1.0            0.0         0.0   \n",
              "6        0.013793  0.017241   0.210053         1.0            0.0         0.0   \n",
              "7        0.124138  0.275862   0.411721         1.0            0.0         0.0   \n",
              "8        0.144828  0.431034   0.346663         0.0            0.0         1.0   \n",
              "9        0.365517  0.224138   0.476826         1.0            0.0         0.0   \n",
              "\n",
              "   sex_F  sex_M  browser_Chrome  browser_FireFox  browser_IE  browser_Opera  \\\n",
              "0    0.0    1.0             1.0              0.0         0.0            0.0   \n",
              "1    1.0    0.0             1.0              0.0         0.0            0.0   \n",
              "2    0.0    1.0             0.0              0.0         0.0            1.0   \n",
              "3    0.0    1.0             0.0              0.0         0.0            0.0   \n",
              "4    0.0    1.0             0.0              0.0         0.0            0.0   \n",
              "5    0.0    1.0             1.0              0.0         0.0            0.0   \n",
              "6    1.0    0.0             1.0              0.0         0.0            0.0   \n",
              "7    0.0    1.0             0.0              0.0         0.0            1.0   \n",
              "8    1.0    0.0             0.0              0.0         1.0            0.0   \n",
              "9    0.0    1.0             0.0              0.0         1.0            0.0   \n",
              "\n",
              "   browser_Safari  \n",
              "0             0.0  \n",
              "1             0.0  \n",
              "2             0.0  \n",
              "3             1.0  \n",
              "4             1.0  \n",
              "5             0.0  \n",
              "6             0.0  \n",
              "7             0.0  \n",
              "8             0.0  \n",
              "9             0.0  "
            ]
          },
          "execution_count": 27,
          "metadata": {},
          "output_type": "execute_result"
        }
      ],
      "source": [
        "# Instanciation du dataframe contenant les variables explicatives\n",
        "X = dfTransactScaler.drop(['is_fraud'], axis = 1)\n",
        "\n",
        "# Instanciation de la series contenant la variable cible \n",
        "y = dfTransactScaler['is_fraud']\n",
        "X.head(10)"
      ]
    },
    {
      "cell_type": "markdown",
      "metadata": {
        "id": "N3etdYYzxCIF"
      },
      "source": [
        "Séparer le jeu de données en deux (un jeu d'entraînement et un jeu de test) (train_test_split)."
      ]
    },
    {
      "cell_type": "code",
      "execution_count": 28,
      "metadata": {
        "colab": {
          "base_uri": "https://localhost:8080/"
        },
        "id": "IgPBuWtjw_k_",
        "outputId": "b06a1453-290b-4c59-d51d-95cd610d9fd7"
      },
      "outputs": [
        {
          "name": "stdout",
          "output_type": "stream",
          "text": [
            "(105778, 13) (45334, 13) (105778,) (45334,)\n",
            "\n",
            "les dimensions de y_train :\n"
          ]
        },
        {
          "data": {
            "text/plain": [
              "0.0    95844\n",
              "1.0     9934\n",
              "Name: is_fraud, dtype: int64"
            ]
          },
          "execution_count": 28,
          "metadata": {},
          "output_type": "execute_result"
        }
      ],
      "source": [
        "\n",
        "# On applique la fonction train_test_split\n",
        "X_train,X_test,y_train,y_test=train_test_split(X,y,test_size=0.30, random_state=42)\n",
        "\n",
        "# On affiche les dimensions des datasets après avoir appliquer la fonction \n",
        "print(X_train.shape,X_test.shape,y_train.shape,y_test.shape)\n",
        "\n",
        "# On affiche les dimensions de y_train\n",
        "print('\\nles dimensions de y_train :')\n",
        "y_train.value_counts()"
      ]
    },
    {
      "cell_type": "markdown",
      "metadata": {
        "id": "NkupakwGxaWo"
      },
      "source": [
        "Instancier le modèle, l'entrainer et prédir la target y_pred."
      ]
    },
    {
      "cell_type": "code",
      "execution_count": 29,
      "metadata": {
        "colab": {
          "base_uri": "https://localhost:8080/",
          "height": 457
        },
        "id": "RHwXtt2P-Cy_",
        "outputId": "ef4b6bbb-02e4-4a8a-98ad-041da3e2feee"
      },
      "outputs": [
        {
          "data": {
            "text/html": [
              "<div>\n",
              "<style scoped>\n",
              "    .dataframe tbody tr th:only-of-type {\n",
              "        vertical-align: middle;\n",
              "    }\n",
              "\n",
              "    .dataframe tbody tr th {\n",
              "        vertical-align: top;\n",
              "    }\n",
              "\n",
              "    .dataframe thead th {\n",
              "        text-align: right;\n",
              "    }\n",
              "</style>\n",
              "<table border=\"1\" class=\"dataframe\">\n",
              "  <thead>\n",
              "    <tr style=\"text-align: right;\">\n",
              "      <th></th>\n",
              "      <th>Variables</th>\n",
              "      <th>Coefficients</th>\n",
              "      <th>Odd_Ratios</th>\n",
              "    </tr>\n",
              "  </thead>\n",
              "  <tbody>\n",
              "    <tr>\n",
              "      <th>0</th>\n",
              "      <td>purchase_value</td>\n",
              "      <td>0.007942</td>\n",
              "      <td>1.007974</td>\n",
              "    </tr>\n",
              "    <tr>\n",
              "      <th>1</th>\n",
              "      <td>age</td>\n",
              "      <td>0.187304</td>\n",
              "      <td>1.205994</td>\n",
              "    </tr>\n",
              "    <tr>\n",
              "      <th>2</th>\n",
              "      <td>time_diff</td>\n",
              "      <td>-3.527382</td>\n",
              "      <td>0.029382</td>\n",
              "    </tr>\n",
              "    <tr>\n",
              "      <th>3</th>\n",
              "      <td>source_Ads</td>\n",
              "      <td>-0.038659</td>\n",
              "      <td>0.962078</td>\n",
              "    </tr>\n",
              "    <tr>\n",
              "      <th>4</th>\n",
              "      <td>source_Direct</td>\n",
              "      <td>0.117851</td>\n",
              "      <td>1.125077</td>\n",
              "    </tr>\n",
              "    <tr>\n",
              "      <th>5</th>\n",
              "      <td>source_SEO</td>\n",
              "      <td>-0.079192</td>\n",
              "      <td>0.923862</td>\n",
              "    </tr>\n",
              "    <tr>\n",
              "      <th>6</th>\n",
              "      <td>sex_F</td>\n",
              "      <td>-0.028218</td>\n",
              "      <td>0.972177</td>\n",
              "    </tr>\n",
              "    <tr>\n",
              "      <th>7</th>\n",
              "      <td>sex_M</td>\n",
              "      <td>0.028218</td>\n",
              "      <td>1.028619</td>\n",
              "    </tr>\n",
              "    <tr>\n",
              "      <th>8</th>\n",
              "      <td>browser_Chrome</td>\n",
              "      <td>0.059739</td>\n",
              "      <td>1.061559</td>\n",
              "    </tr>\n",
              "    <tr>\n",
              "      <th>9</th>\n",
              "      <td>browser_FireFox</td>\n",
              "      <td>0.043175</td>\n",
              "      <td>1.044121</td>\n",
              "    </tr>\n",
              "    <tr>\n",
              "      <th>10</th>\n",
              "      <td>browser_IE</td>\n",
              "      <td>-0.055901</td>\n",
              "      <td>0.945633</td>\n",
              "    </tr>\n",
              "    <tr>\n",
              "      <th>11</th>\n",
              "      <td>browser_Opera</td>\n",
              "      <td>-0.029442</td>\n",
              "      <td>0.970987</td>\n",
              "    </tr>\n",
              "    <tr>\n",
              "      <th>12</th>\n",
              "      <td>browser_Safari</td>\n",
              "      <td>-0.017571</td>\n",
              "      <td>0.982582</td>\n",
              "    </tr>\n",
              "  </tbody>\n",
              "</table>\n",
              "</div>"
            ],
            "text/plain": [
              "          Variables  Coefficients  Odd_Ratios\n",
              "0    purchase_value      0.007942    1.007974\n",
              "1               age      0.187304    1.205994\n",
              "2         time_diff     -3.527382    0.029382\n",
              "3        source_Ads     -0.038659    0.962078\n",
              "4     source_Direct      0.117851    1.125077\n",
              "5        source_SEO     -0.079192    0.923862\n",
              "6             sex_F     -0.028218    0.972177\n",
              "7             sex_M      0.028218    1.028619\n",
              "8    browser_Chrome      0.059739    1.061559\n",
              "9   browser_FireFox      0.043175    1.044121\n",
              "10       browser_IE     -0.055901    0.945633\n",
              "11    browser_Opera     -0.029442    0.970987\n",
              "12   browser_Safari     -0.017571    0.982582"
            ]
          },
          "execution_count": 29,
          "metadata": {},
          "output_type": "execute_result"
        }
      ],
      "source": [
        "# On instantie le modèle et on l'entraîne \n",
        "model_log=LogisticRegression(solver=\"newton-cg\").fit(X_train,y_train)\n",
        "\n",
        "# On prédit les y à partir de X_test\n",
        "y_pred=model_log.predict(X_test)\n",
        "\n",
        "# On affiche les coefficients obtenus\n",
        "coeff=model_log.coef_\n",
        "\n",
        "# On affiche la constante\n",
        "intercept=model_log.intercept_\n",
        "\n",
        "# On calcule les odd ratios\n",
        "odd_ratios=np.exp(model_log.coef_)\n",
        "\n",
        "# On crée un dataframe qui combine à la fois variables, coefficients et odd-ratios\n",
        "resultats=pd.DataFrame(X.columns, columns=[\"Variables\"])\n",
        "resultats['Coefficients']=model_log.coef_.tolist()[0]\n",
        "resultats['Odd_Ratios']=np.exp(model_log.coef_).tolist()[0]\n",
        "resultats"
      ]
    },
    {
      "cell_type": "markdown",
      "metadata": {
        "id": "Mpt50ILBmu5f"
      },
      "source": [
        "Interprétation des odd-ratio significatives :  \n",
        "\n",
        "1) **time_diff** : Lorsque la variable time_diff augmente de 3 fois alors cela diminue les chances d'appartenir à la classe positive d'environ 30 fois.\n",
        "=> ce qui implique inversement que si time_diff diminue fortement cela fait augmenter les chances d'appartenir aux transactions frauduleuses. Ce qui confirme le graphique 'Distribution globale de la differnce entre l'heure de la connexion et l'heure de l'achat'.\n",
        "\n",
        "2) **age** : Lorsque la variable age augmente de 19% alors cela augmente les chances d'appartenir à la classe positive d'environ 21%. Cette évolution sous-jacente de la fraude en fonction de l'age a aussi été constatée via le graphe 'Distribution globale de la variable age'."
      ]
    },
    {
      "cell_type": "code",
      "execution_count": 30,
      "metadata": {
        "colab": {
          "base_uri": "https://localhost:8080/"
        },
        "id": "tcycAswI-sWI",
        "outputId": "b694f9e9-aa75-47a1-afcc-298d5d3ce8c7"
      },
      "outputs": [
        {
          "name": "stdout",
          "output_type": "stream",
          "text": [
            "\n",
            " Matrice de confusion :\n",
            " [[41117     0]\n",
            " [ 4217     0]]\n"
          ]
        }
      ],
      "source": [
        "# On calcule la matrice de confusion et on l'affiche\n",
        "print(\"\\n Matrice de confusion :\\n\", confusion_matrix(y_test,y_pred))"
      ]
    },
    {
      "cell_type": "markdown",
      "metadata": {
        "id": "fVrHhnGMt3r3"
      },
      "source": [
        "La matrice de confusion est déséquilibrée vu qu'il n'y a ni de vrais positifs ni de faux positifs."
      ]
    },
    {
      "cell_type": "code",
      "execution_count": 31,
      "metadata": {
        "colab": {
          "base_uri": "https://localhost:8080/"
        },
        "id": "jmdA5OSY--Yu",
        "outputId": "8ae77c2b-acc6-4cce-ff5c-986711247e42"
      },
      "outputs": [
        {
          "name": "stdout",
          "output_type": "stream",
          "text": [
            "recall_score : 0.0\n"
          ]
        }
      ],
      "source": [
        "# On affiche le recall_score du modèle \n",
        "print(\"recall_score :\", recall_score(y_test, y_pred))\n",
        "# un recall_score de 0 ce qui n'est pas interprétable vu notre jeu de données."
      ]
    },
    {
      "cell_type": "markdown",
      "metadata": {
        "id": "OQMEJXE2upjx"
      },
      "source": [
        "On remarque que y_train contient presque 10 fois plus de négatif que de postif. Ce déséquilibre de classes incite à effectuer un resampling (oversampling) pour ainsi rééquilibrer le jeu d'entrainement."
      ]
    },
    {
      "cell_type": "markdown",
      "metadata": {
        "id": "1y-pu0MF-drn"
      },
      "source": [
        "### Application du modèles de classification après oversamling\n"
      ]
    },
    {
      "cell_type": "markdown",
      "metadata": {
        "id": "ZAUXKuh3yE0t"
      },
      "source": [
        "On a constaté un déséquilibre entre classes négatives et positives ce qui nous incite à appliquer un oversampling."
      ]
    },
    {
      "cell_type": "markdown",
      "metadata": {
        "id": "Vi4Rm__eycrm"
      },
      "source": [
        "> Balancer le jeu de données (oversampling)\n"
      ]
    },
    {
      "cell_type": "code",
      "execution_count": 32,
      "metadata": {
        "colab": {
          "base_uri": "https://localhost:8080/"
        },
        "id": "lZK4gt7UZWHf",
        "outputId": "f7817981-800b-4d7c-dafb-979d2f9707de"
      },
      "outputs": [
        {
          "data": {
            "text/plain": [
              "0.0    95844\n",
              "1.0    95844\n",
              "Name: is_fraud, dtype: int64"
            ]
          },
          "execution_count": 32,
          "metadata": {},
          "output_type": "execute_result"
        }
      ],
      "source": [
        "# Oversampling : la solution pour résoudre le problème du déséquilibre des classes \n",
        "# consiste à rééchantillonner de manière aléatoire l'ensemble de données\n",
        "# d'apprentissage\n",
        "# Random Oversampling : duplique des exemples de la classe minoritaire dans l'ensemble de données d'apprentissage\n",
        "from imblearn.over_sampling import SMOTE\n",
        "oversample = SMOTE()\n",
        "X_train, y_train = oversample.fit_resample(X_train, y_train)\n",
        "y_train.value_counts()"
      ]
    },
    {
      "cell_type": "code",
      "execution_count": 33,
      "metadata": {
        "id": "7qFhOPQSZqWs"
      },
      "outputs": [],
      "source": [
        "# On réapplique le modèle et on l'entraîne \n",
        "model_log=LogisticRegression(solver=\"newton-cg\").fit(X_train,y_train)\n",
        "\n",
        "# On prédit les y à partir de X_test\n",
        "y_pred=model_log.predict(X_test)"
      ]
    },
    {
      "cell_type": "code",
      "execution_count": 34,
      "metadata": {
        "colab": {
          "base_uri": "https://localhost:8080/"
        },
        "id": "a69hpDURapSR",
        "outputId": "8e198607-74f0-47a0-db6a-be41a5c566b4"
      },
      "outputs": [
        {
          "name": "stdout",
          "output_type": "stream",
          "text": [
            "\n",
            " Matrice de confusion :\n",
            " [[26561 14556]\n",
            " [ 1256  2961]]\n",
            "\n",
            " Vrais négatifs: 26561 \n",
            " Faux positifs: 14556 \n",
            " Faux négatifs: 1256 \n",
            " Vrais positifs: 2961\n"
          ]
        }
      ],
      "source": [
        "# On calcule la matrice de confusion et on l'affiche\n",
        "print(\"\\n Matrice de confusion :\\n\", confusion_matrix(y_test,y_pred))\n",
        "tn, fp, fn, tp = confusion_matrix(y_test,y_pred).ravel()\n",
        "print(\"\\n Vrais négatifs:\",tn,\"\\n Faux positifs:\",fp,\"\\n Faux négatifs:\",fn,\"\\n Vrais positifs:\",tp)"
      ]
    },
    {
      "cell_type": "markdown",
      "metadata": {
        "id": "fQiQ1HjEg4AE"
      },
      "source": [
        "**Ce qui nous intéresse ici ce sont les faux négatifs (les transactions frauduleuses qui passent pour non frauduleuses) et c'est ce qui va déterminer notre choix par rapport aux modèles que l'on appliquera.**"
      ]
    },
    {
      "cell_type": "code",
      "execution_count": 35,
      "metadata": {
        "colab": {
          "base_uri": "https://localhost:8080/"
        },
        "id": "C5iTNCGbdL-A",
        "outputId": "27fc3166-6704-4625-ac4c-80bcff4122a3"
      },
      "outputs": [
        {
          "name": "stdout",
          "output_type": "stream",
          "text": [
            "Accuracy: 0.6512110116027705\n"
          ]
        }
      ],
      "source": [
        "# Accuracy : On affiche l'accuracy du modèle \n",
        "print(\"Accuracy:\",accuracy_score(y_test,y_pred))"
      ]
    },
    {
      "cell_type": "markdown",
      "metadata": {
        "id": "McAQEo3y_Mot"
      },
      "source": [
        "> Nous obtenons une accuracy de 0.65, ce qui ne reflète pas de bonnes performances pour notre modèle.  \n",
        "Regardons avec le recall_score : "
      ]
    },
    {
      "cell_type": "code",
      "execution_count": 36,
      "metadata": {
        "colab": {
          "base_uri": "https://localhost:8080/"
        },
        "id": "Du01aQ9VdcmZ",
        "outputId": "79dec884-c0b2-4f85-a841-d17ab3ead27b"
      },
      "outputs": [
        {
          "name": "stdout",
          "output_type": "stream",
          "text": [
            "recall_score : 0.7021579321792744\n"
          ]
        }
      ],
      "source": [
        "print(\"recall_score :\", recall_score(y_test, y_pred))\n",
        "# Notre véritable mesure devrait être recall_score car nous pouvons nous permettre de classer \n",
        "# une transaction non frauduleuse comme frauduleuse, mais pas l'inverse."
      ]
    },
    {
      "cell_type": "markdown",
      "metadata": {
        "id": "gm8WJ7XceKWu"
      },
      "source": [
        "\n",
        "### Appliquer le modèle Arbre de décision\n",
        "\n"
      ]
    },
    {
      "cell_type": "code",
      "execution_count": 37,
      "metadata": {
        "id": "Ql8Y9TPIevJq"
      },
      "outputs": [],
      "source": [
        "### Essayons aussi l'arbre de décision pour avoir une autre perspective.\n",
        "dtc = DecisionTreeClassifier()\n",
        "dtc.fit(X_train, y_train)\n",
        "y_pred2 = dtc.predict(X_test)"
      ]
    },
    {
      "cell_type": "code",
      "execution_count": 38,
      "metadata": {
        "colab": {
          "base_uri": "https://localhost:8080/"
        },
        "id": "GsTYBXn4e2hx",
        "outputId": "b3ba618b-6758-447d-d148-5b2f3373f0b8"
      },
      "outputs": [
        {
          "name": "stdout",
          "output_type": "stream",
          "text": [
            "accuracy_score from DecisionTreeClassifier : 0.9006485198747077\n"
          ]
        }
      ],
      "source": [
        "print('accuracy_score from DecisionTreeClassifier :', accuracy_score(y_test, y_pred2))\n"
      ]
    },
    {
      "cell_type": "markdown",
      "metadata": {
        "id": "LHM-Y2q2AJIW"
      },
      "source": [
        "> Un accuracy score meilleur, mais quid du recall_score ?"
      ]
    },
    {
      "cell_type": "code",
      "execution_count": 39,
      "metadata": {
        "colab": {
          "base_uri": "https://localhost:8080/"
        },
        "id": "7B3iAcmke-jv",
        "outputId": "0090299e-840a-4014-8bb5-b7a7757efb58"
      },
      "outputs": [
        {
          "name": "stdout",
          "output_type": "stream",
          "text": [
            "recall_score from DecisionTreeClassifier : 0.5722077306141807\n"
          ]
        }
      ],
      "source": [
        "print('recall_score from DecisionTreeClassifier :', recall_score(y_test, y_pred2))\n"
      ]
    },
    {
      "cell_type": "markdown",
      "metadata": {
        "id": "OVL0f_wiAaxX"
      },
      "source": [
        "Quid du f1_score ?"
      ]
    },
    {
      "cell_type": "code",
      "execution_count": 40,
      "metadata": {
        "colab": {
          "base_uri": "https://localhost:8080/"
        },
        "id": "h6KfAwo6e_16",
        "outputId": "4a8bceaf-ec30-4412-c45a-3944f8da9749"
      },
      "outputs": [
        {
          "name": "stdout",
          "output_type": "stream",
          "text": [
            "f1_score from DecisionTreeClassifier : 0.517256162915327\n"
          ]
        }
      ],
      "source": [
        "print('f1_score from DecisionTreeClassifier :' , f1_score(y_test, y_pred2))"
      ]
    },
    {
      "cell_type": "markdown",
      "metadata": {
        "id": "so6FTBhSAZbX"
      },
      "source": [
        "> On constate un meilleur accuracy mais un recall_score légèrement plus bas.  \n",
        "\n",
        "Matrice de confusion : \n"
      ]
    },
    {
      "cell_type": "code",
      "execution_count": 41,
      "metadata": {
        "colab": {
          "base_uri": "https://localhost:8080/"
        },
        "id": "ZuEyzBJyfSfo",
        "outputId": "7c5f1cc4-09ef-4156-a4bc-62da9e63e1d8"
      },
      "outputs": [
        {
          "name": "stdout",
          "output_type": "stream",
          "text": [
            "confusion_matrix from DecisionTreeClassifier:\n",
            " [[38417  2700]\n",
            " [ 1804  2413]]\n"
          ]
        }
      ],
      "source": [
        "print('confusion_matrix from DecisionTreeClassifier:\\n', confusion_matrix(y_test, y_pred2))"
      ]
    },
    {
      "cell_type": "markdown",
      "metadata": {
        "id": "VoEIbHHMgQsR"
      },
      "source": [
        "**On constate que les faux négatifs ont néanmoins augmenté. Les faux positifs ont quant à eux nettement diminué.**"
      ]
    },
    {
      "cell_type": "markdown",
      "metadata": {
        "id": "TgncK3Stf5yr"
      },
      "source": [
        "### Appliquer le modèle Random Forest Classifier\n"
      ]
    },
    {
      "cell_type": "code",
      "execution_count": 42,
      "metadata": {
        "id": "R8g8uff8f_8D"
      },
      "outputs": [],
      "source": [
        "rfc = RandomForestClassifier()\n",
        "rfc.fit(X_train, y_train)\n",
        "\n",
        "y_pred3 = rfc.predict(X_test)"
      ]
    },
    {
      "cell_type": "code",
      "execution_count": 43,
      "metadata": {
        "colab": {
          "base_uri": "https://localhost:8080/"
        },
        "id": "7rZZhDljgMvq",
        "outputId": "c505d778-4243-497c-987f-f109256656c8"
      },
      "outputs": [
        {
          "name": "stdout",
          "output_type": "stream",
          "text": [
            "accuracy_score from RandomForestClassifier : 0.9266334318612962\n"
          ]
        }
      ],
      "source": [
        "print('accuracy_score from RandomForestClassifier :', accuracy_score(y_test, y_pred3))\n"
      ]
    },
    {
      "cell_type": "code",
      "execution_count": 44,
      "metadata": {
        "colab": {
          "base_uri": "https://localhost:8080/"
        },
        "id": "T97hL1JegUXz",
        "outputId": "2d5df471-3924-4683-f3f8-383c568434eb"
      },
      "outputs": [
        {
          "name": "stdout",
          "output_type": "stream",
          "text": [
            "recall_score from RandomForestClassifier : 0.5622480436329144\n"
          ]
        }
      ],
      "source": [
        "print('recall_score from RandomForestClassifier :', recall_score(y_test, y_pred3))\n"
      ]
    },
    {
      "cell_type": "code",
      "execution_count": 45,
      "metadata": {
        "colab": {
          "base_uri": "https://localhost:8080/"
        },
        "id": "2coeO9IOgWcD",
        "outputId": "a275a92b-0fb6-4b7b-9fdd-6fe862fe5f78"
      },
      "outputs": [
        {
          "name": "stdout",
          "output_type": "stream",
          "text": [
            "f1_score from RandomForestClassifier : 0.5877540902330194\n"
          ]
        }
      ],
      "source": [
        "print('f1_score from RandomForestClassifier :' , f1_score(y_test, y_pred3))\n"
      ]
    },
    {
      "cell_type": "code",
      "execution_count": 46,
      "metadata": {
        "colab": {
          "base_uri": "https://localhost:8080/"
        },
        "id": "qK2DVTGNgYMp",
        "outputId": "8da35c1e-fade-4986-adaa-b23dd61de3f2"
      },
      "outputs": [
        {
          "name": "stdout",
          "output_type": "stream",
          "text": [
            "confusion_matrix from RandomForestClassifier: \n",
            " [[39637  1480]\n",
            " [ 1846  2371]]\n"
          ]
        }
      ],
      "source": [
        "print('confusion_matrix from RandomForestClassifier: \\n', confusion_matrix(y_test, y_pred3))"
      ]
    },
    {
      "cell_type": "markdown",
      "metadata": {
        "id": "VZYKqCX1hJxb"
      },
      "source": [
        "> **Nous choisirons finalement la régression logistique car les faux négatifs sont minimes dans ce cas.**\n"
      ]
    },
    {
      "cell_type": "markdown",
      "metadata": {
        "id": "TLNyp_BbtlfH"
      },
      "source": [
        "### Validation croisée   \n",
        "Nous allons soumlettre notre modèle de régression logistique aux évaluations des performances et ce via une validation croisée :   "
      ]
    },
    {
      "cell_type": "code",
      "execution_count": 47,
      "metadata": {
        "colab": {
          "base_uri": "https://localhost:8080/"
        },
        "id": "UW9AW4X6CFmD",
        "outputId": "55112765-daa3-4b98-e175-997e037c66c9"
      },
      "outputs": [
        {
          "name": "stdout",
          "output_type": "stream",
          "text": [
            " Les performances obtenues sur chacun des splits est de:\n",
            "\n",
            " [0.9063627  0.90632962 0.90635961 0.90635961 0.90635961] \n",
            "\n",
            "En moyenne cela donne donc une accuracy de: 0.9063542274348461  \n",
            "\n",
            " Les performances obtenues sur chacun des splits avec un découpage successif des folds (Stratified-KFold) sans mélange est de:\n",
            "\n",
            " [0.9063627  0.90632962 0.90635961 0.90635961 0.90635961] \n",
            "\n",
            "En moyenne cela donne donc une accuracy de: 0.9063542274348461 \n",
            "\n",
            " Les performances obtenues sur chaque des splits après un mélange des observations de la base est de:\n",
            "\n",
            " [0.9063627  0.90632962 0.90635961 0.90635961 0.90635961] \n",
            "\n",
            "En moyenne cela donne donc une accuracy de: 0.9063542274348461\n",
            "\n",
            "On constate que les performances sont quasi équivalentes lorsque l'on mélange les observations et lorsqu'on ne les mélange pas.\n"
          ]
        }
      ],
      "source": [
        "from sklearn.model_selection import cross_val_score\n",
        "\n",
        "performances_ = cross_val_score(model_log, X, y, cv=5, scoring='accuracy')\n",
        "\n",
        "from sklearn.model_selection import StratifiedKFold\n",
        "\n",
        "folds_1 = StratifiedKFold(n_splits = 5, shuffle = False)\n",
        "\n",
        "folds_2 = StratifiedKFold(n_splits = 5, shuffle = True, random_state=42)\n",
        "\n",
        "performances_non_shuffled = cross_val_score(model_log, X, y, scoring='accuracy', cv=folds_1)\n",
        "\n",
        "performances_shuffled = cross_val_score(model_log, X, y, scoring='accuracy', cv=folds_2)\n",
        "\n",
        "print(\" Les performances obtenues sur chacun des splits est de:\\n\\n\", performances_, \"\\n\\nEn moyenne cela donne donc une accuracy de:\",np.mean(performances_),\n",
        "      \" \\n\\n Les performances obtenues sur chacun des splits avec un découpage successif des folds (Stratified-KFold) sans mélange est de:\\n\\n\", performances_non_shuffled,\"\\n\\nEn moyenne cela donne donc une accuracy de:\",np.mean(performances_non_shuffled),\n",
        "      \"\\n\\n Les performances obtenues sur chaque des splits après un mélange des observations de la base est de:\\n\\n\", performances_shuffled, \"\\n\\nEn moyenne cela donne donc une accuracy de:\",np.mean(performances_shuffled))\n",
        "\n",
        "print(\"\\nOn constate que les performances sont quasi équivalentes lorsque l'on mélange les observations et lorsqu'on ne les mélange pas.\") "
      ]
    },
    {
      "cell_type": "markdown",
      "metadata": {
        "id": "h1ftQf-AC0e6"
      },
      "source": [
        "Interprétation graphique des performances :  \n"
      ]
    },
    {
      "cell_type": "code",
      "execution_count": 48,
      "metadata": {
        "colab": {
          "base_uri": "https://localhost:8080/",
          "height": 577
        },
        "id": "1DVCKTXYC8LR",
        "outputId": "7b887b5d-981e-4d06-b58a-aaa38527e097"
      },
      "outputs": [
        {
          "data": {
            "image/png": "[encoded data removed]",
            "text/plain": [
              "<Figure size 768x576 with 1 Axes>"
            ]
          },
          "metadata": {},
          "output_type": "display_data"
        }
      ],
      "source": [
        "# On définit la qualité de l'affichage\n",
        "\n",
        "fig,ax = plt.subplots(dpi=120)\n",
        "\n",
        "# On retire l'axe supérieur et l'axe de droite du graphique\n",
        "\n",
        "ax.spines['right'].set_visible(False)\n",
        "\n",
        "ax.spines['top'].set_visible(False)\n",
        "\n",
        "# On conserve les graduations de l'axe du bas et de gauche\n",
        "\n",
        "ax.yaxis.set_ticks_position('left') \n",
        "\n",
        "ax.xaxis.set_ticks_position('bottom') \n",
        "\n",
        "# On nomme les axes \n",
        "\n",
        "plt.xlabel(\"Splits\")\n",
        "\n",
        "plt.ylabel(\"Accuracy\", rotation=0)\n",
        "\n",
        "# On affiche les performances issues du dataset non mélangé\n",
        "\n",
        "plt.plot(performances_non_shuffled,label=\"Non shuffled\",color=\"#66d8bc\")\n",
        "\n",
        "# On affiche les performances issues du dataset  mélangé\n",
        "\n",
        "plt.plot(performances_shuffled,label=\"Shuffled\",color=\"#8f5ef4\")\n",
        "\n",
        "# On définit les graduations de l'axe des abscisses pour que ce soit des entiers \n",
        "\n",
        "plt.xticks(np.arange(0, 5, step=1))\n",
        "\n",
        "# On affiche la légende des courbes \n",
        "\n",
        "plt.legend(loc=0)\n",
        "\n",
        "# On affiche le titre du graphique\n",
        "\n",
        "plt.title(\"\\nPerformances obtenues par Stratified Cross Validation \\n\\n\",fontsize=16);\n",
        "\n",
        "# Le graphique permet de visualiser l'homogénéité parfaite des performances obtenues avant et après mélange."
      ]
    },
    {
      "cell_type": "markdown",
      "metadata": {
        "id": "nuaooKohtwys"
      },
      "source": [
        "## **VI**- Conclusion   \n",
        "\n",
        "Au sein de ce projet nous avons utilisé plusieurs modèles :   \n",
        "- un modèle de régression logistique LogisticRegression.\n",
        "- un modèle d'arbres de décision DecisionTreeClassifier qui a donné une meilleure accuracy mais qui a le désavantage d'être moins interprétable.\n",
        "- un modèle d'ensemble Learning RandomForestClassifier qui est tout comme le modèle précédent moins interprétable car il contient trop de faux négatifs par rapport aux deux autres.   \n",
        "\n",
        "La problématique de déséquilibre de classes qu'on a rencontré en appliquant le modèle dans un premier temps nous a incité à appliquer un oversampling et de réentrainer le modèle pour avoir un résultat plus cohérent.\n",
        "\n",
        "Le modèle LogisticRegression est le modèle de classification qui correspondrait le plus à notre problématique d'apprentissage supervisé car il prédit le moins de faux négatifs possibles."
      ]
    },
    {
      "cell_type": "code",
      "execution_count": 49,
      "metadata": {},
      "outputs": [
        {
          "data": {
            "text/plain": [
              "['../API/RandomForestClassifier_model.joblib']"
            ]
          },
          "execution_count": 49,
          "metadata": {},
          "output_type": "execute_result"
        }
      ],
      "source": [
        "from joblib import dump, load\n",
        "dump(model_log, '../Model/LogisticRegression_model.joblib')\n",
        "dump(dtc, '../Model/DecisionTreeClassifier_model.joblib')\n",
        "dump(rfc, '../Model/RandomForestClassifier_model.joblib', compress=3)\n",
        "dump(model_log, '../API/LogisticRegression_model.joblib')\n",
        "dump(dtc, '../API/DecisionTreeClassifier_model.joblib')\n",
        "dump(rfc, '../API/RandomForestClassifier_model.joblib', compress=3)"
      ]
    }
  ],
  "metadata": {
    "colab": {
      "collapsed_sections": [
        "nuaooKohtwys"
      ],
      "name": "Projet : FRAUD",
      "provenance": []
    },
    "interpreter": {
      "hash": "1445e5d0a9fc95613d7d3453eb37d11f7a49302cf98eb5f556a0df3d4a168779"
    },
    "kernelspec": {
      "display_name": "Python 3.10.4 64-bit",
      "language": "python",
      "name": "python3"
    },
    "language_info": {
      "codemirror_mode": {
        "name": "ipython",
        "version": 3
      },
      "file_extension": ".py",
      "mimetype": "text/x-python",
      "name": "python",
      "nbconvert_exporter": "python",
      "pygments_lexer": "ipython3",
      "version": "3.10.4"
    }
  },
  "nbformat": 4,
  "nbformat_minor": 0
}
